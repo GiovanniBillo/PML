{
  "cells": [
    {
      "cell_type": "markdown",
      "metadata": {
        "id": "eEmtzSesEIgp"
      },
      "source": [
        "# Notebook 1: **Probability** basics exercises (done by Giovanni Billo)"
      ]
    },
    {
      "cell_type": "markdown",
      "metadata": {
        "id": "0f40131d"
      },
      "source": [
        "<a href=\"https://github.com/GiovanniBillo/PML/blob/main/01_probability_exercises.ipynb\" target=\"_parent\"><img src=\"https://colab.research.google.com/assets/colab-badge.svg\" alt=\"Open In Colab\"/></a>[link text](https://)"
      ]
    },
    {
      "cell_type": "markdown",
      "metadata": {
        "id": "OGoGyEQTEIgs"
      },
      "source": [
        "### **Exercise 1**"
      ]
    },
    {
      "cell_type": "markdown",
      "metadata": {
        "id": "68s0RQyaEIgt"
      },
      "source": [
        "We would like to estimate the effect of a drug D (D=1 the patient took the drug, D=0 didn't) on heart attack H (H=1 had heart attack, H=0 didn't) by looking at an observational dataset which contains also information about the sex of the patients (S = M/F).\n",
        "\n",
        "- Control group (D=0):\n",
        "\n",
        "\n",
        "|        | H = 1 | H = 0 |\n",
        "|--------|-------|-------|\n",
        "| Female |   1   |   19  |\n",
        "| Male   |   12  |   28  |\n",
        "| Total  |   13  |   47  |\n",
        "\n",
        " - Treatment group (D=1):\n",
        "\n",
        "|        | H = 1 | H = 0 |\n",
        "|--------|-------|-------|\n",
        "| Female |   3   |   37  |\n",
        "| Male   |   8   |   12  |\n",
        "| Total  |   11  |   49  |\n",
        "\n",
        "- Among males, what is the difference between the probability of having heart attack given that the patient took the drug and given that he didn't? Is the treatment working?\n",
        "- What about females?\n",
        "- What happens if you consider the whole population?\n",
        "- How can you explain that?"
      ]
    },
    {
      "cell_type": "markdown",
      "metadata": {
        "id": "lmwgBehuEIgu"
      },
      "source": [
        "### **Exercise 2**"
      ]
    },
    {
      "cell_type": "markdown",
      "metadata": {
        "id": "3HVnCTjtEIgv"
      },
      "source": [
        "Donated blood is screened for AIDS. Suppose the test has 99% accuracy,\n",
        "and that one in ten thousand people in your age group are HIV positive. The\n",
        "test has a 5% false positive rating, as well. Suppose the test screens you as\n",
        "positive. What is the probability you have AIDS? Is it 99%? (Hint: 99% refers\n",
        "to P(test positive|you have AIDS). You want to find P(you have AIDS|test\n",
        "is positive).\n",
        "\n",
        "\n",
        "Using Bayes' theorem:\n",
        "$$\n",
        "P(have\\_AIDS|testpositive) = \\frac{P(test positive|have\\_AIDS)P(have\\_AIDS)}{P(test positive)}\n",
        "$$\n",
        "\n",
        "Let's find the different probabilities first.\n",
        "$$\n",
        "P(have\\_AIDS) = \\frac{1}{10.000} = 0.0001\n",
        "$$\n",
        "\n",
        "$$\n",
        "P(testpositive) = 0.01\n",
        "$$\n",
        "\n",
        "Next, let's find the probability that you have AIDS, given that you were tested positive. We are told that the model can have a 5% False Positive error.\n",
        "We thus calculate $1 - FP$.\n",
        "$$\n",
        "P(test positive| have\\_AIDS) = 0.95\n",
        "$$\n",
        "\n",
        "Finally,\n",
        "$$\n",
        "P(have\\_AIDS|testpositive) = \\frac{0.95 \\times 0.0001}{0.01} \\approx 0.02\n",
        "$$\n",
        "\n",
        "DOUBT: why is $P(testpositive) = 0.01$ ? Isn't that more like the probability that the test is wrong?"
      ]
    },
    {
      "cell_type": "markdown",
      "metadata": {
        "id": "LYgk3ffnEIgw"
      },
      "source": [
        "### **Exercise 3**"
      ]
    },
    {
      "cell_type": "markdown",
      "metadata": {
        "id": "Hw7CcqEkEIgw"
      },
      "source": [
        "Yuo are given a fair coin with probability $0.5$ or an unfair coin (having $P(\\text{head})=0.8$) with probability $0.5$. Then you toss it two times, with results $H_1$ and $H_2$.\n",
        "\n",
        "Let's call $C$ the random variable describing if the coin is fair or not.\n",
        "\n",
        "Let's represent all of these events with tables.\n",
        "In case the coin is fair (C = FAIR), the joint probability distribution is\n",
        "```markdown\n",
        "### Fair Coin Joint Probability Table with Marginal Probabilities\n",
        "\n",
        "| H1 / H2 | H (0.5) | T (0.5) | **Marginal P(H1)** |\n",
        "|-----------------|---------|---------|-------------------|\n",
        "| **H (0.5)**    | 0.25    | 0.25    | **0.50**         |\n",
        "| **T (0.5)**    | 0.25    | 0.25    | **0.50**         |\n",
        "| **Marginal P(H2)** | **0.50** | **0.50** | **1.00** |\n",
        "\n",
        "### Biased Coin Joint Probability Table with Marginal Probabilities\n",
        "\n",
        "| H1 / H2 | H (0.8) | T (0.2) | **Marginal P(H1)** |\n",
        "|-----------------|---------|---------|-------------------|\n",
        "| **H (0.8)**    | 0.64    | 0.16    | **0.80**         |\n",
        "| **T (0.2)**    | 0.16    | 0.04    | **0.20**         |\n",
        "| **Marginal P(H2)** | **0.80** | **0.20** | **1.00** |\n",
        "\n",
        "```\n",
        "\n",
        "\n",
        "1. Is $H_2$ independent from $H_1$?\n",
        "In order for 2 events to be independent, their joint distribution needs to be equal to the product of their marginal distributions.\n",
        "In this case, we want to see if\n",
        "$$\n",
        "P(H_2, H_1) = P(H_2) \\times P(H_1)\n",
        "$$\n",
        "The left-hand term is just our probability table, which can be represented as\n",
        "$$\n",
        "\\begin{pmatrix}\n",
        "  0.25 & 0.25 \\\\\n",
        "  0.25 & 0.25  \\\\\n",
        "\\end{pmatrix}\n",
        "$$\n",
        "and our marginal probabilites are\n",
        "$$\n",
        "P(H1) = (0.5, 0.5) = P(H2)\n",
        "$$\n",
        "multipying them:\n",
        "$$\n",
        "P(H1) \\times P(H2) = \\begin{pmatrix}\n",
        "  0.25 & 0.25 \\\\\n",
        "  0.25 & 0.25  \\\\\n",
        "\\end{pmatrix}\n",
        "$$\n",
        "With the biased coin, similarly:\n",
        "$$\n",
        "P(H1) = (0.8, 0.2) = P(H2)\n",
        "$$\n",
        "multipying them:\n",
        "$$\n",
        "P(H1) \\times P(H2) = \\begin{pmatrix}\n",
        "  0.64 & 0.16 \\\\\n",
        "  0.16 & 0.04  \\\\\n",
        "\\end{pmatrix}\n",
        "$$\n",
        "We can thus conclude that the 2 events are indeed independent: even with an unfair coin, one toss does not influence the outcome of the other\n",
        "2. Factorize $p(h_1, h_2 | c)$ (write it as a product of simpler terms)\n",
        "We can use the [*Chain Rule of Probabilities*](https://en.wikipedia.org/wiki/Chain_rule_(probability))\n",
        "$$\n",
        "p(h_1, h_2 | c) = p(h_1|h_2, c)*p(h_2|c)\n",
        "$$\n",
        "3. Factorize $p(h_1, h_2, c)$.\n",
        "Again, using the chain rule:\n",
        "$$\n",
        "p(h_1, h_2, c) = p(h_1|h_2, c)p(h_2|c)p(c)\n",
        "$$\n",
        "4. Compute $p(h_1)$ -> marginal probability of H1\n",
        "$$\n",
        "P(H1) = (0.5, 0.5, 0.8, 0.2)\n",
        "$$\n",
        "5. Compute $p(c | h_1)$\n",
        "As the type of coin is independent from the result of the first launch, $p(c | h_1) = p(c) = (0.5, 0.5)$ !!! Not sure how to interpret the question\n",
        "6. Compute $p(h_2 | h_1)$\n",
        "We have already stated that the 2 events are independent. The conditional probability of 2 independent events is equal to the marginal probability, thus\n",
        "$$\n",
        "P(H2|H1) = P(H2) = P(H1) = (0.5, 0.5, 0.8, 0.2)\n",
        "$$\n"
      ]
    },
    {
      "cell_type": "markdown",
      "metadata": {
        "id": "lmGfdqexEIgx"
      },
      "source": [
        "### **Exercise 4**"
      ]
    },
    {
      "cell_type": "markdown",
      "metadata": {
        "id": "Su7tQlmKEIgy"
      },
      "source": [
        "Given $p(x,y)=$\n",
        "\n",
        "|   | Y=0 | Y=1 |\n",
        "|---|-----|-----|\n",
        "| X=0 | 0.2  | 0.1  |\n",
        "| X=1 | 0.15 | 0.0  |\n",
        "| X=2 | 0.25  | 0.3 |\n",
        "\n",
        "\n",
        "\n",
        "Calculate\n",
        "- $p(y)$ -> marginal distribution of y\n",
        "- $p(x)$ -> marginal distribution of x\n",
        "- $p(x|y)$ -> conditional distribution of x on y\n",
        "- $p(y|x)$ -> conditional distribution of y on x\n",
        "- $\\mathbb{E}[x]$\n",
        "- $\\mathbb{E}[y]$\n",
        "- $\\mathbb{E}[x|y]$\n",
        "- $\\text{cov}[x,y]$\n",
        "\n",
        "You can do it by hand on a piece of paper, but I also suggest you doing it with the `numpy` library. You can do any of these computations with a single line of code."
      ]
    },
    {
      "cell_type": "code",
      "execution_count": null,
      "metadata": {
        "colab": {
          "base_uri": "https://localhost:8080/"
        },
        "id": "HMVdeQ6YEIgy",
        "outputId": "c7ec3d6e-aa29-4f31-fbd8-08ffdd92a792"
      },
      "outputs": [
        {
          "output_type": "stream",
          "name": "stdout",
          "text": [
            "Marginal distribution of y: [0.6 0.4]\n",
            "Marginal distribution of x: [0.3  0.15 0.55]\n",
            "Conditional distribution of x on y: [[0.33333333 0.25      ]\n",
            " [0.25       0.        ]\n",
            " [0.41666667 0.75      ]]\n",
            "Conditional distribution of y on x: [[0.66666667 0.33333333]\n",
            " [1.         0.        ]\n",
            " [0.45454545 0.54545455]]\n",
            "Expected value of x: 1.25\n",
            "Expected value of y: 0.4\n",
            "Expected value of x conditional on y: [1.08333333 1.5       ]\n",
            "Expected value of x conditional on y: [0.33333333 0.         0.54545455]\n",
            "Expected value of x*y: 0.6\n",
            "0.09999999999999998\n"
          ]
        }
      ],
      "source": [
        "import numpy as np\n",
        "\n",
        "p = np.array([[0.2, 0.1],\n",
        "                 [0.15, 0.0],\n",
        "                 [0.25, 0.3],\n",
        "                ])\n",
        "\n",
        "x = np.array([0, 1, 2])\n",
        "y = np.array([0, 1])\n",
        "\n",
        "p_y = np.sum(p, axis = 0)\n",
        "print(\"Marginal distribution of y:\", p_y)\n",
        "\n",
        "p_x = np.sum(p, axis = 1)\n",
        "print(\"Marginal distribution of x:\",p_x)\n",
        "\n",
        "p_x_on_y = p/p_y\n",
        "print(\"Conditional distribution of x on y:\",p_x_on_y)\n",
        "\n",
        "p_y_on_x = (p.T / p_x).T\n",
        "print(\"Conditional distribution of y on x:\",p_y_on_x)\n",
        "\n",
        "E_x = x.dot(p_x)\n",
        "print(\"Expected value of x:\", E_x)\n",
        "\n",
        "E_y = y.dot(p_y)\n",
        "print(\"Expected value of y:\", E_y)\n",
        "\n",
        "E_x_on_y = ((p_x_on_y.T).dot(x)).T\n",
        "print(\"Expected value of x conditional on y:\", E_x_on_y)\n",
        "\n",
        "E_y_on_x = ((p_y_on_x).dot(y))\n",
        "print(\"Expected value of x conditional on y:\", E_y_on_x)\n",
        "\n",
        "E_xy = np.sum(x[:, None] * y[None, :] * p)\n",
        "print(\"Expected value of x*y:\", E_xy)\n",
        "\n",
        "Cov_xy = E_xy - E_x*E_y\n",
        "print(\"Covariance between x and y:\", Cov_xy)"
      ]
    },
    {
      "cell_type": "markdown",
      "metadata": {
        "id": "9s3FL_bZEIg0"
      },
      "source": [
        "### **Exercise 5**"
      ]
    },
    {
      "cell_type": "markdown",
      "metadata": {
        "id": "oYlxZA4nEIg0"
      },
      "source": [
        "**Exercise 1**\n",
        "\n",
        "\n",
        "Suppose we are interested in the relation between an exposure A (has been affected by coronavirus: 0 no, 1 yes) and an outcome Y (has myocarditis: 0 no, 1 yes). We conduct an observational study on a representative population and obtain the following proportions (N.B. this data is made up and does not come from a study):\n",
        "\n",
        "|A \\ Y| 0 | 1 |\n",
        "|-----|---|---|\n",
        "| 0 |0.75|0.07|\n",
        "| 1 |0.15|0.03|\n",
        "\n",
        "s.t. for example, among all subjects, 3% has been affected by coronavirus and has myocarditis.\n",
        "\n",
        "- Among the exposed subjects, what is the proportion on individuals that have the outcome?\n",
        "  -0.03, that is 3%\n",
        "- Are A and Y independent?\n",
        "  - in order to be independent, for the 2 events, $P(A|Y) = P(A)$ would have to hold.\n",
        "  - $P(A) = (0.82, 0.18)$\n",
        "  - $P(Y) = (0.9, 0.10)$\n",
        "  - $P(A|Y) = [(\\frac{0.75}{0.9}, \\frac{0.15}{0.9}); (\\frac{0.07}{0.1}, \\frac{0.03}{0.1})]=[(0.83, 0.16), (0.7, 0.3)]$\n",
        "  - As we see, the conditional probability of A given Y is not equal to the marginal probability of A. Therefore events A and Y are NOT independent."
      ]
    },
    {
      "cell_type": "markdown",
      "metadata": {
        "id": "7R7a2ie2EIg0"
      },
      "source": [
        "### **Exercise 6**"
      ]
    },
    {
      "cell_type": "markdown",
      "metadata": {
        "id": "rWDQ-T5BEIg1"
      },
      "source": [
        "Given the distribution $p(x,y) = x + y \\text{ if } x \\in [0,1], y \\in [0,1], 0 \\text{ otherwise}$\n",
        "\n",
        "Calculate\n",
        "- $\\mathbb{E}[x|y]$\n",
        "- $\\rho[X,Y]$\n",
        "\n",
        "This time, I suggest you trying the `sympy` library, that can help you with symbolic computations."
      ]
    },
    {
      "cell_type": "code",
      "execution_count": null,
      "metadata": {
        "colab": {
          "base_uri": "https://localhost:8080/"
        },
        "id": "CwZG8FHdEIg1",
        "outputId": "316f18b3-2c04-416a-f7a0-9b6f518b84be"
      },
      "outputs": [
        {
          "output_type": "stream",
          "name": "stdout",
          "text": [
            "Expected value E[x|y]:  log(3)/12 + 1/2\n",
            "Correlation: 1/(72*sqrt((x**3/3 - x**2/12 - x/6 + 1/16)*(y**3/3 - y**2/12 - y/6 + 1/16)))\n"
          ]
        }
      ],
      "source": [
        "from sympy import symbols, integrate, log, sqrt\n",
        "\n",
        "# Define the symbols\n",
        "x, y = symbols('x y')\n",
        "\n",
        "# Define the joint distribution\n",
        "p_xy = (x + y)\n",
        "\n",
        "# Calculate E[x|y]\n",
        "p_x = integrate(p_xy, (x, 0, 1))\n",
        "p_y = integrate(p_xy, (y, 0, 1))\n",
        "\n",
        "E_xy = integrate(x * p_xy/p_x, (x, 0, 1), (y, 0, 1))\n",
        "print(\"Expected value E[x|y]: \", E_xy)\n",
        "\n",
        "# Calculate correlation\n",
        "E_x = x*p_x\n",
        "E_y = y*p_y\n",
        "cov_xy = integrate((x - E_x)*(y - E_y)*p_xy, (x, 0, 1), (y, 0, 1))\n",
        "var_x = integrate((x - E_x)**2*p_xy, (x, 0, 1))\n",
        "var_y = integrate((y - E_y)**2*p_xy, (y, 0, 1))\n",
        "\n",
        "corr = cov_xy / (sqrt(var_x* var_y))\n",
        "print(\"Correlation:\", corr)\n",
        "\n",
        "# print(\"\\nZ:\", Z)"
      ]
    },
    {
      "cell_type": "markdown",
      "metadata": {
        "id": "tMPGsNy6EIg1"
      },
      "source": [
        "### **Exercise 7**"
      ]
    },
    {
      "cell_type": "markdown",
      "metadata": {
        "id": "3vNNZxKyEIg2"
      },
      "source": [
        "Two alternative definitions of conditional independence were given, prove that they are equivalent:\n",
        "$$p(a | b, c)=p(a | c) \\Longleftrightarrow p(a, b | c)=p(a|c)p(b|c)$$\n",
        "\n",
        "1st\n",
        "$$\n",
        "p(a, b|c) = P(a|b, c)P(b|c)\n",
        "$$\n",
        "$$\n",
        "P(a|b, c) = \\frac{P(a,b|c)}{p(b|c)}\n",
        "$$\n",
        "and then 2nd\n",
        "$$\n",
        "p(a|b, c) = \\frac{P(a, b|c}{P(b|c)} = \\frac{P(a|c)P(b|c)}{P(b|c)}= P(a|c)\n",
        "$$"
      ]
    },
    {
      "cell_type": "markdown",
      "metadata": {
        "id": "wEibfzs7EIg2"
      },
      "source": [
        "### **Exercise 8**"
      ]
    },
    {
      "cell_type": "markdown",
      "metadata": {
        "id": "b3_9CyZTEIg2"
      },
      "source": [
        "Compute the variance of the following unnormalized distribution (numerically, use `scipy.integrate`)\n",
        "$$p(x) \\propto sin(x)^2 e^{-|x|}$$"
      ]
    },
    {
      "cell_type": "code",
      "source": [
        "from scipy import integrate\n",
        "from math import sin, exp, pi, log, sqrt\n",
        "import numpy as np\n",
        "\n",
        "# we know that Var(x) = E(x - E(x))^2\n",
        "# let's represent it using a lambda function\n",
        "a = -np.infty\n",
        "b = np.infty\n",
        "var, est_error = integrate.quad(lambda x: x*(sin(x)**2 * exp(-abs(x))), a, b)\n",
        "# as we increase the interval of x, our variance gets smaller. For infinite ranges it is 0.\n",
        "\n",
        "print(var, est_error)"
      ],
      "metadata": {
        "id": "kLQ9j36jxfZ6",
        "outputId": "a8ff128c-8256-4305-fa1e-02d0cb1c4fc0",
        "colab": {
          "base_uri": "https://localhost:8080/"
        }
      },
      "execution_count": null,
      "outputs": [
        {
          "output_type": "stream",
          "name": "stdout",
          "text": [
            "0.0 0.0\n"
          ]
        }
      ]
    },
    {
      "cell_type": "markdown",
      "metadata": {
        "id": "L7sZHiW9EIg2"
      },
      "source": [
        "### **Exercise 9**"
      ]
    },
    {
      "cell_type": "markdown",
      "metadata": {
        "id": "2TfTZmctEIg2"
      },
      "source": [
        "You are proposed to play the following game: you toss a coin a first time, if tail appears, you win 1€ and the game ends, if head appears you win 2€ and you can continue playing. From the second toss on, if tail appears you stop playing, if head appears the amount you already won doubles and you can keep playing.\n",
        "\n",
        "Example:\n",
        "1) You toss the coin and **head** appears (you are winning 2€)\n",
        "2) You toss the coin again and **head** appears (you are winning 4€)\n",
        "3) You toss the coin again and **head** appears (you are winning 8€)\n",
        "4) You toss the coin again and **tail** appears (the game ends and you won a total amount of 8€)\n",
        "\n",
        "Let's call $X$ the amount of money you win playing this game.\n",
        "1. What is the expected amount you win?\n",
        "2. What is the expected value of $\\log_2(X)$?\n",
        "3. How much would you pay for playing this game?\n",
        "\n",
        "Hint: $ \\sum_{i=1}^{\\infty} i q^i = \\frac{q}{(1-q)^2}$\n",
        "\n",
        "1.\n",
        "At round $h$, you win $2^h$ euros: $f(h) = 2^h$\n",
        "What is the probability of getting to $h$ rounds (that is, that H occurs h times before T)?\n",
        "$$\n",
        "p(H = h) = (0.5)^h = 2^{-h -1}\n",
        "$$\n",
        "\n",
        "$$\n",
        "E_{h ~ p(h))}[f(h)] = \\sum_{h = 0}^{\\infty}p(h)f(h)\n",
        "$$\n",
        "$$\n",
        "E_{h ~ p(h))}[f(h)] = \\sum_{h = 0}^{\\infty}2^{-h -1}\\times2^h\n",
        "$$\n",
        "$$\n",
        "E_{h ~ p(h))}[f(h)] = \\sum_{h = 0}^{\\infty}2^{-h}\\times2^h = infty\n",
        "$$\n",
        "That is, the expected value won is infinite.\n",
        "\n",
        "2.\n",
        "$$\n",
        "E_{h ~ p(h))}[log_2f(h)] = \\sum_{h = 0}^{\\infty}p(h)f(h)\n",
        "$$\n",
        "$$\n",
        "E_{h ~ p(h))}[log_2f(h)] = \\sum_{h = 0}^{\\infty}2^{-h -1}h =\n",
        "$$\n",
        "\n",
        "\n"
      ]
    },
    {
      "cell_type": "markdown",
      "metadata": {
        "id": "3_5XAGm5EIg3"
      },
      "source": [
        "### **Exercise 10**"
      ]
    },
    {
      "cell_type": "markdown",
      "metadata": {
        "id": "gBfOWZMOEIg3"
      },
      "source": [
        "It's night and you are looking into the sky waiting to see a falling star. A friend of yours tells you that the waiting time $T$ (hours) is distributed exponentially: $p(t) = 2e^{-2t}$.\n",
        "1. What is the probability of seeing the first falling star within 1 hour? How much time do you expect to wait?\n",
        "\n",
        "$$\n",
        "p(1) = 2e^{-2\\times1} = 0.27\n",
        "$$\n",
        "\n",
        "2. You have not seen anything in one hour, what is the probability of seeing a the first falling star in the next 1 hour? (justify your answer)\n",
        "\n",
        "$$\n",
        "p(2) = 2e^{-2\\times2} = 0.036\n",
        "$$\n",
        "\n",
        "As the distribution of waiting time is exponential, the more we wait the more we'll HAVE TO wait.\n",
        "3. Is the waiting time dependent on how much you have already waited? Is the answer the same for any distribution?\n",
        "No: for a gamma distribution for example, depending on how many events we wish to see, the probability of seeing the desired n. of events increases the more you wait. (!!! not sure if this is the right interpretation).\n"
      ]
    },
    {
      "cell_type": "code",
      "source": [
        "import numpy as np\n",
        "import matplotlib.pyplot as plt\n",
        "import scipy.stats as stats\n",
        "\n",
        "# Parameters\n",
        "lambda_ = 2   # Rate parameter (falling stars per hour)\n",
        "theta = 1 / lambda_  # Scale parameter (average waiting time per star)\n",
        "\n",
        "# Shape parameters for different Gamma distributions\n",
        "k_values = [1, 2, 3]  # Waiting for 1st, 2nd, and 3rd stars\n",
        "\n",
        "# Time range for plotting\n",
        "x = np.linspace(0, 5, 1000)\n",
        "\n",
        "# Plot different Gamma distributions\n",
        "plt.figure(figsize=(8, 5))\n",
        "colors = ['blue', 'orange', 'green']\n",
        "\n",
        "for k, color in zip(k_values, colors):\n",
        "    pdf_values = stats.gamma.pdf(x, a=k, scale=theta)\n",
        "    plt.plot(x, pdf_values, label=f\"Gamma({k}, {theta:.2f})\", color=color)\n",
        "\n",
        "# Labels and legend\n",
        "plt.title(\"Waiting Time Distributions for Falling Stars\")\n",
        "plt.xlabel(\"Time (hours)\")\n",
        "plt.ylabel(\"Probability Density\")\n",
        "plt.legend()\n",
        "plt.grid()\n",
        "\n",
        "# Show plot\n",
        "plt.show()\n"
      ],
      "metadata": {
        "id": "cOCAu1TS9vy2",
        "outputId": "07c35a3e-6363-47b2-ec9e-1d8fa2649b57",
        "colab": {
          "base_uri": "https://localhost:8080/",
          "height": 487
        }
      },
      "execution_count": null,
      "outputs": [
        {
          "output_type": "display_data",
          "data": {
            "text/plain": [
              "<Figure size 800x500 with 1 Axes>"
            ],
            "image/png": "[encoded data removed]"
          },
          "metadata": {}
        }
      ]
    },
    {
      "cell_type": "markdown",
      "source": [
        "3. What is the probability of seeing at least two falling stars in the first 1 hour?\n",
        "\n"
      ],
      "metadata": {
        "id": "zvOR5BsgCaah"
      }
    },
    {
      "cell_type": "code",
      "source": [
        "import scipy.stats as stats\n",
        "\n",
        "# Parameters\n",
        "lambda_ = 2  # Average number of stars per hour\n",
        "\n",
        "# Probability of seeing at least 2 stars in 1 hour\n",
        "P_at_least_2 = 1 - (stats.poisson.pmf(0, lambda_) + stats.poisson.pmf(1, lambda_))\n",
        "\n",
        "print(f\"Probability of seeing at least 2 falling stars in 1 hour: {P_at_least_2:.4f}\")\n"
      ],
      "metadata": {
        "id": "NfoG5SZ0CMwg",
        "outputId": "6d1e269c-d355-4222-f10b-9155d1ccf2d2",
        "colab": {
          "base_uri": "https://localhost:8080/"
        }
      },
      "execution_count": null,
      "outputs": [
        {
          "output_type": "stream",
          "name": "stdout",
          "text": [
            "Probability of seeing at least 2 falling stars in 1 hour: 0.5940\n"
          ]
        }
      ]
    },
    {
      "cell_type": "markdown",
      "source": [
        "4. Let's say the distribution is instead $p(t) = Uniform(0, 4)$ (for example, there is a known comet expected to show up at a certain point), how do aswers to questions 1 and 2 change?\n",
        "  - As the distribution is uniform, we always expect to wait the same amount of time."
      ],
      "metadata": {
        "id": "X4fYeig0CdQ1"
      }
    },
    {
      "cell_type": "code",
      "source": [
        "#1) Probability of seeing the first falling star within 1 hour with Uniform(0,4) distribution\n",
        "prob_within_1_hour = 1/4\n",
        "\n",
        "# Expected waiting time with Uniform(0,4) distribution\n",
        "expected_waiting_time = 2  # (0 + 4) / 2\n",
        "\n",
        "\n",
        "print(f\"Probability of seeing the first falling star within 1 hour: {prob_within_1_hour}\")\n",
        "print(f\"Expected waiting time (mean): {expected_waiting_time} hours\")\n",
        "\n",
        "# 2) If you haven't seen a falling star in the first hour, the uniform\n",
        "# distribution is memoryless in the sense that it does not take into\n",
        "# consideration the previous time you waited. Thus the probability of seeing a\n",
        "# star in the next hour is again 1/4\n",
        "prob_next_hour = 1/4\n",
        "\n",
        "\n",
        "print(f\"Probability of seeing the first falling star in the next hour given that you haven't seen one yet: {prob_next_hour}\")\n"
      ],
      "metadata": {
        "id": "_0o6tX-qChKj",
        "outputId": "16a67bee-03b9-401d-ef58-30e3aedaa9be",
        "colab": {
          "base_uri": "https://localhost:8080/"
        }
      },
      "execution_count": null,
      "outputs": [
        {
          "output_type": "stream",
          "name": "stdout",
          "text": [
            "Probability of seeing the first falling star within 1 hour: 0.25\n",
            "Expected waiting time: 2 hours\n",
            "Probability of seeing the first falling star in the next hour given that you haven't seen one yet: 0.25\n"
          ]
        }
      ]
    }
  ],
  "metadata": {
    "kernelspec": {
      "display_name": "Python 3 (ipykernel)",
      "language": "python",
      "name": "python3"
    },
    "language_info": {
      "codemirror_mode": {
        "name": "ipython",
        "version": 3
      },
      "file_extension": ".py",
      "mimetype": "text/x-python",
      "name": "python",
      "nbconvert_exporter": "python",
      "pygments_lexer": "ipython3",
      "version": "3.10.12"
    },
    "colab": {
      "provenance": []
    }
  },
  "nbformat": 4,
  "nbformat_minor": 0
}