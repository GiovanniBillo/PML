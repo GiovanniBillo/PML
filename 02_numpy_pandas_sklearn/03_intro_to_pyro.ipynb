{
  "cells": [
    {
      "cell_type": "markdown",
      "metadata": {
        "id": "435e8830"
      },
      "source": [
        "<a href=\"https://colab.research.google.com/github/r-doz/PML2025/blob/main/./02_numpy_pandas_sklearn/03_intro_to_pyro.ipynb\" target=\"_parent\"><img src=\"https://colab.research.google.com/assets/colab-badge.svg\" alt=\"Open In Colab\"/></a>"
      ]
    },
    {
      "cell_type": "markdown",
      "metadata": {
        "id": "q4jDTE8a12y5"
      },
      "source": [
        "# Notebook 3: Introduction to **Pyro**\n",
        "\n",
        "Probabilistic Machine Learning -- Spring 2025, UniTS\n",
        "\n",
        "The material in this notebook is based on the [Pyro's documentation](https://pyro.ai) and from the previous work of [Emanuele Ballarin](https://ballarin.cc)."
      ]
    },
    {
      "cell_type": "markdown",
      "metadata": {
        "id": "Be16fPQH12y6"
      },
      "source": [
        "Probabilistic programming is a **programming paradigm** that allows us to describe uncertainty and randomness in our models and data.\n",
        "\n",
        "In traditional programming, we usually deal with **deterministic processes**, i.e. processes where *the same input always leads to the same output*, e.g. `3+5` will always return `8`.\n",
        "But in many real-world problems, we deal with uncertain data or uncertain models, and that's where probabilistic programming comes in.\n",
        "\n",
        "Imagine you're building a weather prediction system. You have data on temperature, humidity, and pressure, but you can never be completely certain about the weather. Probabilistic programming allows you to model this uncertainty in a **precise** and **formal** way. For example, if we’re predicting the chance of rain tomorrow based on uncertain weather data, **our model will return a probability distribution**, such as a 70% chance of rain."
      ]
    },
    {
      "cell_type": "markdown",
      "metadata": {
        "id": "yXg_upa812y7"
      },
      "source": [
        "- **random variables:** variables that represent uncertain or random quantities (e.g. the chance of rain tomorrow) - they will assume different values based on a certain probability distribution;\n",
        "- **probabilistic models:** mathematical models describing uncertainty in a system (e.g. a model that predicts whether it will rain tomorrow based on past weather data) - describes how random variables interact, often built on *bayesian statistics*;\n",
        "- **inference:** the process of updating our beliefs or predictions about uncertain variables based on available data, involving algorithms like Markov Chain Monte Carlo (MCMC) or variational inference - consists in obtaining *posterior distributions*."
      ]
    },
    {
      "cell_type": "markdown",
      "metadata": {
        "id": "2tbR7qZL12y7"
      },
      "source": [
        "### Practically speaking:\n",
        "Probabilistic programs combine **ordinary deterministic computation** with **randomly sampled values**, representing a generative process for data.\n",
        "\n",
        "In general, the aim is to solve an inference problem, as \"what must be true if this random variable assumed a certain observed value?\", following the steps:\n",
        "\n",
        "- Specify a model\n",
        "- Identify a query to be answered\n",
        "- Choose an algorithm for computing the answer"
      ]
    },
    {
      "cell_type": "markdown",
      "metadata": {
        "id": "6F9b-Eta12y8"
      },
      "source": [
        "## Probabilistic models in Pyro\n",
        "\n",
        "Pyro is a:\n",
        "\n",
        "- **deep:** allows *automatic differentiation of primitives*, making it play well with deep learning architectures\n",
        "- **universal:** allows all probabilistic programs to be *correctly expressed*.\n",
        "\n",
        "PPL based on PyTorch. This provides efficient, flexible and scalable (up to very large datasets) automatic optimisation-based inference, GPU-accelerated tensor mathematics (as with plain PyTorch), and the ability to exploit (internally or explicitly) automatic differentiation."
      ]
    },
    {
      "cell_type": "code",
      "execution_count": 1,
      "metadata": {
        "id": "6yu65QPE12y8",
        "outputId": "c111579c-b3d9-4877-d2e1-217e78295a9e",
        "colab": {
          "base_uri": "https://localhost:8080/"
        }
      },
      "outputs": [
        {
          "output_type": "stream",
          "name": "stdout",
          "text": [
            "Collecting pyro-ppl\n",
            "  Downloading pyro_ppl-1.9.1-py3-none-any.whl.metadata (7.8 kB)\n",
            "Requirement already satisfied: numpy>=1.7 in /usr/local/lib/python3.11/dist-packages (from pyro-ppl) (1.26.4)\n",
            "Requirement already satisfied: opt-einsum>=2.3.2 in /usr/local/lib/python3.11/dist-packages (from pyro-ppl) (3.4.0)\n",
            "Collecting pyro-api>=0.1.1 (from pyro-ppl)\n",
            "  Downloading pyro_api-0.1.2-py3-none-any.whl.metadata (2.5 kB)\n",
            "Requirement already satisfied: torch>=2.0 in /usr/local/lib/python3.11/dist-packages (from pyro-ppl) (2.6.0+cu124)\n",
            "Requirement already satisfied: tqdm>=4.36 in /usr/local/lib/python3.11/dist-packages (from pyro-ppl) (4.67.1)\n",
            "Requirement already satisfied: filelock in /usr/local/lib/python3.11/dist-packages (from torch>=2.0->pyro-ppl) (3.17.0)\n",
            "Requirement already satisfied: typing-extensions>=4.10.0 in /usr/local/lib/python3.11/dist-packages (from torch>=2.0->pyro-ppl) (4.12.2)\n",
            "Requirement already satisfied: networkx in /usr/local/lib/python3.11/dist-packages (from torch>=2.0->pyro-ppl) (3.4.2)\n",
            "Requirement already satisfied: jinja2 in /usr/local/lib/python3.11/dist-packages (from torch>=2.0->pyro-ppl) (3.1.6)\n",
            "Requirement already satisfied: fsspec in /usr/local/lib/python3.11/dist-packages (from torch>=2.0->pyro-ppl) (2024.10.0)\n",
            "Collecting nvidia-cuda-nvrtc-cu12==12.4.127 (from torch>=2.0->pyro-ppl)\n",
            "  Downloading nvidia_cuda_nvrtc_cu12-12.4.127-py3-none-manylinux2014_x86_64.whl.metadata (1.5 kB)\n",
            "Collecting nvidia-cuda-runtime-cu12==12.4.127 (from torch>=2.0->pyro-ppl)\n",
            "  Downloading nvidia_cuda_runtime_cu12-12.4.127-py3-none-manylinux2014_x86_64.whl.metadata (1.5 kB)\n",
            "Collecting nvidia-cuda-cupti-cu12==12.4.127 (from torch>=2.0->pyro-ppl)\n",
            "  Downloading nvidia_cuda_cupti_cu12-12.4.127-py3-none-manylinux2014_x86_64.whl.metadata (1.6 kB)\n",
            "Collecting nvidia-cudnn-cu12==9.1.0.70 (from torch>=2.0->pyro-ppl)\n",
            "  Downloading nvidia_cudnn_cu12-9.1.0.70-py3-none-manylinux2014_x86_64.whl.metadata (1.6 kB)\n",
            "Collecting nvidia-cublas-cu12==12.4.5.8 (from torch>=2.0->pyro-ppl)\n",
            "  Downloading nvidia_cublas_cu12-12.4.5.8-py3-none-manylinux2014_x86_64.whl.metadata (1.5 kB)\n",
            "Collecting nvidia-cufft-cu12==11.2.1.3 (from torch>=2.0->pyro-ppl)\n",
            "  Downloading nvidia_cufft_cu12-11.2.1.3-py3-none-manylinux2014_x86_64.whl.metadata (1.5 kB)\n",
            "Collecting nvidia-curand-cu12==10.3.5.147 (from torch>=2.0->pyro-ppl)\n",
            "  Downloading nvidia_curand_cu12-10.3.5.147-py3-none-manylinux2014_x86_64.whl.metadata (1.5 kB)\n",
            "Collecting nvidia-cusolver-cu12==11.6.1.9 (from torch>=2.0->pyro-ppl)\n",
            "  Downloading nvidia_cusolver_cu12-11.6.1.9-py3-none-manylinux2014_x86_64.whl.metadata (1.6 kB)\n",
            "Collecting nvidia-cusparse-cu12==12.3.1.170 (from torch>=2.0->pyro-ppl)\n",
            "  Downloading nvidia_cusparse_cu12-12.3.1.170-py3-none-manylinux2014_x86_64.whl.metadata (1.6 kB)\n",
            "Requirement already satisfied: nvidia-cusparselt-cu12==0.6.2 in /usr/local/lib/python3.11/dist-packages (from torch>=2.0->pyro-ppl) (0.6.2)\n",
            "Requirement already satisfied: nvidia-nccl-cu12==2.21.5 in /usr/local/lib/python3.11/dist-packages (from torch>=2.0->pyro-ppl) (2.21.5)\n",
            "Requirement already satisfied: nvidia-nvtx-cu12==12.4.127 in /usr/local/lib/python3.11/dist-packages (from torch>=2.0->pyro-ppl) (12.4.127)\n",
            "Collecting nvidia-nvjitlink-cu12==12.4.127 (from torch>=2.0->pyro-ppl)\n",
            "  Downloading nvidia_nvjitlink_cu12-12.4.127-py3-none-manylinux2014_x86_64.whl.metadata (1.5 kB)\n",
            "Requirement already satisfied: triton==3.2.0 in /usr/local/lib/python3.11/dist-packages (from torch>=2.0->pyro-ppl) (3.2.0)\n",
            "Requirement already satisfied: sympy==1.13.1 in /usr/local/lib/python3.11/dist-packages (from torch>=2.0->pyro-ppl) (1.13.1)\n",
            "Requirement already satisfied: mpmath<1.4,>=1.1.0 in /usr/local/lib/python3.11/dist-packages (from sympy==1.13.1->torch>=2.0->pyro-ppl) (1.3.0)\n",
            "Requirement already satisfied: MarkupSafe>=2.0 in /usr/local/lib/python3.11/dist-packages (from jinja2->torch>=2.0->pyro-ppl) (3.0.2)\n",
            "Downloading pyro_ppl-1.9.1-py3-none-any.whl (755 kB)\n",
            "\u001b[2K   \u001b[90m━━━━━━━━━━━━━━━━━━━━━━━━━━━━━━━━━━━━━━━━\u001b[0m \u001b[32m756.0/756.0 kB\u001b[0m \u001b[31m7.9 MB/s\u001b[0m eta \u001b[36m0:00:00\u001b[0m\n",
            "\u001b[?25hDownloading pyro_api-0.1.2-py3-none-any.whl (11 kB)\n",
            "Downloading nvidia_cublas_cu12-12.4.5.8-py3-none-manylinux2014_x86_64.whl (363.4 MB)\n",
            "\u001b[2K   \u001b[90m━━━━━━━━━━━━━━━━━━━━━━━━━━━━━━━━━━━━━━━━\u001b[0m \u001b[32m363.4/363.4 MB\u001b[0m \u001b[31m3.3 MB/s\u001b[0m eta \u001b[36m0:00:00\u001b[0m\n",
            "\u001b[?25hDownloading nvidia_cuda_cupti_cu12-12.4.127-py3-none-manylinux2014_x86_64.whl (13.8 MB)\n",
            "\u001b[2K   \u001b[90m━━━━━━━━━━━━━━━━━━━━━━━━━━━━━━━━━━━━━━━━\u001b[0m \u001b[32m13.8/13.8 MB\u001b[0m \u001b[31m52.3 MB/s\u001b[0m eta \u001b[36m0:00:00\u001b[0m\n",
            "\u001b[?25hDownloading nvidia_cuda_nvrtc_cu12-12.4.127-py3-none-manylinux2014_x86_64.whl (24.6 MB)\n",
            "\u001b[2K   \u001b[90m━━━━━━━━━━━━━━━━━━━━━━━━━━━━━━━━━━━━━━━━\u001b[0m \u001b[32m24.6/24.6 MB\u001b[0m \u001b[31m23.1 MB/s\u001b[0m eta \u001b[36m0:00:00\u001b[0m\n",
            "\u001b[?25hDownloading nvidia_cuda_runtime_cu12-12.4.127-py3-none-manylinux2014_x86_64.whl (883 kB)\n",
            "\u001b[2K   \u001b[90m━━━━━━━━━━━━━━━━━━━━━━━━━━━━━━━━━━━━━━━━\u001b[0m \u001b[32m883.7/883.7 kB\u001b[0m \u001b[31m24.7 MB/s\u001b[0m eta \u001b[36m0:00:00\u001b[0m\n",
            "\u001b[?25hDownloading nvidia_cudnn_cu12-9.1.0.70-py3-none-manylinux2014_x86_64.whl (664.8 MB)\n",
            "\u001b[2K   \u001b[90m━━━━━━━━━━━━━━━━━━━━━━━━━━━━━━━━━━━━━━━━\u001b[0m \u001b[32m664.8/664.8 MB\u001b[0m \u001b[31m2.8 MB/s\u001b[0m eta \u001b[36m0:00:00\u001b[0m\n",
            "\u001b[?25hDownloading nvidia_cufft_cu12-11.2.1.3-py3-none-manylinux2014_x86_64.whl (211.5 MB)\n",
            "\u001b[2K   \u001b[90m━━━━━━━━━━━━━━━━━━━━━━━━━━━━━━━━━━━━━━━━\u001b[0m \u001b[32m211.5/211.5 MB\u001b[0m \u001b[31m5.1 MB/s\u001b[0m eta \u001b[36m0:00:00\u001b[0m\n",
            "\u001b[?25hDownloading nvidia_curand_cu12-10.3.5.147-py3-none-manylinux2014_x86_64.whl (56.3 MB)\n",
            "\u001b[2K   \u001b[90m━━━━━━━━━━━━━━━━━━━━━━━━━━━━━━━━━━━━━━━━\u001b[0m \u001b[32m56.3/56.3 MB\u001b[0m \u001b[31m14.2 MB/s\u001b[0m eta \u001b[36m0:00:00\u001b[0m\n",
            "\u001b[?25hDownloading nvidia_cusolver_cu12-11.6.1.9-py3-none-manylinux2014_x86_64.whl (127.9 MB)\n",
            "\u001b[2K   \u001b[90m━━━━━━━━━━━━━━━━━━━━━━━━━━━━━━━━━━━━━━━━\u001b[0m \u001b[32m127.9/127.9 MB\u001b[0m \u001b[31m7.3 MB/s\u001b[0m eta \u001b[36m0:00:00\u001b[0m\n",
            "\u001b[?25hDownloading nvidia_cusparse_cu12-12.3.1.170-py3-none-manylinux2014_x86_64.whl (207.5 MB)\n",
            "\u001b[2K   \u001b[90m━━━━━━━━━━━━━━━━━━━━━━━━━━━━━━━━━━━━━━━━\u001b[0m \u001b[32m207.5/207.5 MB\u001b[0m \u001b[31m4.9 MB/s\u001b[0m eta \u001b[36m0:00:00\u001b[0m\n",
            "\u001b[?25hDownloading nvidia_nvjitlink_cu12-12.4.127-py3-none-manylinux2014_x86_64.whl (21.1 MB)\n",
            "\u001b[2K   \u001b[90m━━━━━━━━━━━━━━━━━━━━━━━━━━━━━━━━━━━━━━━━\u001b[0m \u001b[32m21.1/21.1 MB\u001b[0m \u001b[31m54.2 MB/s\u001b[0m eta \u001b[36m0:00:00\u001b[0m\n",
            "\u001b[?25hInstalling collected packages: pyro-api, nvidia-nvjitlink-cu12, nvidia-curand-cu12, nvidia-cufft-cu12, nvidia-cuda-runtime-cu12, nvidia-cuda-nvrtc-cu12, nvidia-cuda-cupti-cu12, nvidia-cublas-cu12, nvidia-cusparse-cu12, nvidia-cudnn-cu12, nvidia-cusolver-cu12, pyro-ppl\n",
            "  Attempting uninstall: nvidia-nvjitlink-cu12\n",
            "    Found existing installation: nvidia-nvjitlink-cu12 12.5.82\n",
            "    Uninstalling nvidia-nvjitlink-cu12-12.5.82:\n",
            "      Successfully uninstalled nvidia-nvjitlink-cu12-12.5.82\n",
            "  Attempting uninstall: nvidia-curand-cu12\n",
            "    Found existing installation: nvidia-curand-cu12 10.3.6.82\n",
            "    Uninstalling nvidia-curand-cu12-10.3.6.82:\n",
            "      Successfully uninstalled nvidia-curand-cu12-10.3.6.82\n",
            "  Attempting uninstall: nvidia-cufft-cu12\n",
            "    Found existing installation: nvidia-cufft-cu12 11.2.3.61\n",
            "    Uninstalling nvidia-cufft-cu12-11.2.3.61:\n",
            "      Successfully uninstalled nvidia-cufft-cu12-11.2.3.61\n",
            "  Attempting uninstall: nvidia-cuda-runtime-cu12\n",
            "    Found existing installation: nvidia-cuda-runtime-cu12 12.5.82\n",
            "    Uninstalling nvidia-cuda-runtime-cu12-12.5.82:\n",
            "      Successfully uninstalled nvidia-cuda-runtime-cu12-12.5.82\n",
            "  Attempting uninstall: nvidia-cuda-nvrtc-cu12\n",
            "    Found existing installation: nvidia-cuda-nvrtc-cu12 12.5.82\n",
            "    Uninstalling nvidia-cuda-nvrtc-cu12-12.5.82:\n",
            "      Successfully uninstalled nvidia-cuda-nvrtc-cu12-12.5.82\n",
            "  Attempting uninstall: nvidia-cuda-cupti-cu12\n",
            "    Found existing installation: nvidia-cuda-cupti-cu12 12.5.82\n",
            "    Uninstalling nvidia-cuda-cupti-cu12-12.5.82:\n",
            "      Successfully uninstalled nvidia-cuda-cupti-cu12-12.5.82\n",
            "  Attempting uninstall: nvidia-cublas-cu12\n",
            "    Found existing installation: nvidia-cublas-cu12 12.5.3.2\n",
            "    Uninstalling nvidia-cublas-cu12-12.5.3.2:\n",
            "      Successfully uninstalled nvidia-cublas-cu12-12.5.3.2\n",
            "  Attempting uninstall: nvidia-cusparse-cu12\n",
            "    Found existing installation: nvidia-cusparse-cu12 12.5.1.3\n",
            "    Uninstalling nvidia-cusparse-cu12-12.5.1.3:\n",
            "      Successfully uninstalled nvidia-cusparse-cu12-12.5.1.3\n",
            "  Attempting uninstall: nvidia-cudnn-cu12\n",
            "    Found existing installation: nvidia-cudnn-cu12 9.3.0.75\n",
            "    Uninstalling nvidia-cudnn-cu12-9.3.0.75:\n",
            "      Successfully uninstalled nvidia-cudnn-cu12-9.3.0.75\n",
            "  Attempting uninstall: nvidia-cusolver-cu12\n",
            "    Found existing installation: nvidia-cusolver-cu12 11.6.3.83\n",
            "    Uninstalling nvidia-cusolver-cu12-11.6.3.83:\n",
            "      Successfully uninstalled nvidia-cusolver-cu12-11.6.3.83\n",
            "Successfully installed nvidia-cublas-cu12-12.4.5.8 nvidia-cuda-cupti-cu12-12.4.127 nvidia-cuda-nvrtc-cu12-12.4.127 nvidia-cuda-runtime-cu12-12.4.127 nvidia-cudnn-cu12-9.1.0.70 nvidia-cufft-cu12-11.2.1.3 nvidia-curand-cu12-10.3.5.147 nvidia-cusolver-cu12-11.6.1.9 nvidia-cusparse-cu12-12.3.1.170 nvidia-nvjitlink-cu12-12.4.127 pyro-api-0.1.2 pyro-ppl-1.9.1\n"
          ]
        }
      ],
      "source": [
        "# If you run this notebook in Colab, do not forget to (uncomment and) run:\n",
        "!pip install pyro-ppl\n",
        "!pip install graphviz"
      ]
    },
    {
      "cell_type": "markdown",
      "metadata": {
        "id": "mAKPaIlS12y9"
      },
      "source": [
        "### Modelling / Simulation\n",
        "\n",
        "A ***statistical model*** is a mathematical description of how some *knowns* (and what's their *form*, since they are known!) and *unknowns* (and ***how** unknown?*; see *e.g.* this [seminal work by E.T. Jaynes](https://bayes.wustl.edu/etj/articles/prior.pdf)!) generate the observed data.\n",
        "\n",
        "The basic unit of *probabilistic programming* is a *stochastic function*, a function representing a ***generative model*** of the data indeed. In `Pyro`, any function can be viewed as a stochastic function: significantly, functions mixing deterministic Python/`PyTorch` code with *sampling primitives* are generally considered to be *proper* *stochastic function*s.\n",
        "\n",
        "In pyro everything we define is a stochastic function."
      ]
    },
    {
      "cell_type": "code",
      "execution_count": 3,
      "metadata": {
        "id": "HCnNza_p12y9"
      },
      "outputs": [],
      "source": [
        "#SETUP: IMPORT THE MODULES WE MAY NEED\n",
        "import torch\n",
        "import seaborn as sns\n",
        "\n",
        "import pyro\n",
        "import pyro.distributions as dist"
      ]
    },
    {
      "cell_type": "markdown",
      "metadata": {
        "id": "OikZK8QW12y-"
      },
      "source": [
        "### Sampling"
      ]
    },
    {
      "cell_type": "markdown",
      "metadata": {
        "id": "vlO41-Mi12y-"
      },
      "source": [
        "In order to sample from a given distribution we use the `pyro.sample` function"
      ]
    },
    {
      "cell_type": "code",
      "execution_count": 5,
      "metadata": {
        "id": "wGeABfcY12y-",
        "outputId": "2ece30cd-5ae6-4e25-dc5f-ab080b4bb3f1",
        "colab": {
          "base_uri": "https://localhost:8080/"
        }
      },
      "outputs": [
        {
          "output_type": "execute_result",
          "data": {
            "text/plain": [
              "tensor(1.9690)"
            ]
          },
          "metadata": {},
          "execution_count": 5
        }
      ],
      "source": [
        "pyro.sample(name=\"just_a_sample\",\n",
        "            fn=dist.Normal(loc=0, scale=1)) # loc = mean, scale = standard deviation"
      ]
    },
    {
      "cell_type": "code",
      "execution_count": null,
      "metadata": {
        "id": "t31SeRY-12y_",
        "outputId": "564c43f0-2c9c-4fa0-b4fa-b0ad839c8d16"
      },
      "outputs": [
        {
          "data": {
            "text/plain": [
              "tensor([-0.7983,  0.5863, -0.1324,  1.2526,  0.1988, -0.3740, -0.8898, -0.2044,\n",
              "        -0.6930,  1.0193])"
            ]
          },
          "execution_count": 18,
          "metadata": {},
          "output_type": "execute_result"
        }
      ],
      "source": [
        "# sampling multiple times\n",
        "pyro.sample(name=\"other_samples\",\n",
        "            fn=dist.Normal(loc=0, scale=1),\n",
        "            sample_shape=(10,))"
      ]
    },
    {
      "cell_type": "markdown",
      "metadata": {
        "id": "DkdLuXg212y_"
      },
      "source": [
        "Pyro is based on PyTorch's tensors, one of the reasons is that many of its functionalities need automatic differentiation."
      ]
    },
    {
      "cell_type": "code",
      "execution_count": 13,
      "metadata": {
        "id": "SxkQkPyJ12y_",
        "outputId": "1337ddc8-12af-4e02-b9fa-26d02465764b",
        "colab": {
          "base_uri": "https://localhost:8080/"
        }
      },
      "outputs": [
        {
          "output_type": "stream",
          "name": "stdout",
          "text": [
            "Pyro sample: tensor([-1.9969, -0.7522, -0.2540,  0.0893, -1.6478,  1.1102,  0.1925,  0.0956,\n",
            "        -1.6829,  0.6752]); type <class 'torch.Tensor'>\n"
          ]
        }
      ],
      "source": [
        "x_pyro = pyro.sample(name=\"other_samples\",\n",
        "            fn=dist.Normal(loc=0, scale=1),\n",
        "            sample_shape=(10,)) # why does this change from (10,) to (10,1)\n",
        "\n",
        "print(f\"Pyro sample: {x_pyro}; type {type(x_pyro)}\")"
      ]
    },
    {
      "cell_type": "markdown",
      "source": [
        "What is the main feature of tensors?\n",
        "Multi-dimensional: Tensors can represent data in multiple dimensions, similar to arrays. This allows them to store and manipulate complex data structures like images, videos, and time-series data.\n",
        "\n",
        "GPU Acceleration: One of the key advantages of tensors is their ability to leverage GPUs for computation. This significantly speeds up operations, especially for large datasets and complex models, making them ideal for deep learning tasks.\n",
        "\n",
        "Automatic Differentiation: Tensors support automatic differentiation, which is crucial for training neural networks. This feature allows frameworks like PyTorch to calculate gradients automatically, enabling efficient optimization of model parameters.\n",
        "\n",
        "Numerical Operations: Tensors provide a wide range of built-in functions for numerical operations, including matrix multiplication, element-wise operations, and linear algebra routines. This simplifies mathematical computations and data manipulation.\n"
      ],
      "metadata": {
        "id": "b4YHpwIP4RAg"
      }
    },
    {
      "cell_type": "markdown",
      "metadata": {
        "id": "0SR2GBgl12zA"
      },
      "source": [
        "### Defining a model"
      ]
    },
    {
      "cell_type": "markdown",
      "metadata": {
        "id": "93rBFVVN12zA"
      },
      "source": [
        "Notice that we had to specify a name when sampling, but why is it mandatory?\n",
        "\n",
        "The point is that `pyro.sample` is not only made for sampling (for that there are simpler functions in `torch` or `numpy`), but under the hood it also keeps track of the random variables with their given names, and in general of the full generative process!\n",
        "\n",
        "To exploit this feature we have to 'enclose' all `pyro.sample` calls inside a function that we define, representing the generative process (the model), for example:"
      ]
    },
    {
      "cell_type": "code",
      "execution_count": 14,
      "metadata": {
        "id": "CGEQbimQ12zA"
      },
      "outputs": [],
      "source": [
        "def my_model():\n",
        "    x = pyro.sample(\"x\", dist.Bernoulli(0.3))\n",
        "    pyro.sample(\"y\", dist.Normal(x, 1))"
      ]
    },
    {
      "cell_type": "markdown",
      "metadata": {
        "id": "b9-Jlw0U12zB"
      },
      "source": [
        "The `my_model` function now represents a model of a stochastic process, in this case:\n",
        "\n",
        "$$X \\sim Bern(0.3)$$\n",
        "$$Y \\sim \\mathcal{N}(X, 1)$$\n",
        "\n",
        "or in other words\n",
        "$$p(x,y) = p(x)p(y|x) \\ \\ \\text{where:}$$\n",
        "$$p(x) = Bern(x; 0.3)$$\n",
        "$$p(y|x) \\sim \\mathcal{N}(y | \\mu = x, \\sigma = 1)$$\n",
        "\n",
        "We basically define a nested distribution.\n",
        "Pyro has functions that can take `my_model` as input and do very useful things.\n",
        "\n",
        "This is an example of one of these functionalities: we can plot the graphical model representing the stochastic process we defined:"
      ]
    },
    {
      "cell_type": "code",
      "execution_count": 18,
      "metadata": {
        "id": "sZnPIYAa12zB",
        "outputId": "8f9a6a23-99ce-4c2f-c60e-bb0688cbbfdd",
        "colab": {
          "base_uri": "https://localhost:8080/",
          "height": 176
        }
      },
      "outputs": [
        {
          "output_type": "execute_result",
          "data": {
            "image/svg+xml": "<?xml version=\"1.0\" encoding=\"UTF-8\" standalone=\"no\"?>\n<!DOCTYPE svg PUBLIC \"-//W3C//DTD SVG 1.1//EN\"\n \"http://www.w3.org/Graphics/SVG/1.1/DTD/svg11.dtd\">\n<!-- Generated by graphviz version 2.43.0 (0)\n -->\n<!-- Title: %3 Pages: 1 -->\n<svg width=\"62pt\" height=\"116pt\"\n viewBox=\"0.00 0.00 62.00 116.00\" xmlns=\"http://www.w3.org/2000/svg\" xmlns:xlink=\"http://www.w3.org/1999/xlink\">\n<g id=\"graph0\" class=\"graph\" transform=\"scale(1 1) rotate(0) translate(4 112)\">\n<title>%3</title>\n<polygon fill=\"white\" stroke=\"transparent\" points=\"-4,4 -4,-112 58,-112 58,4 -4,4\"/>\n<!-- x -->\n<g id=\"node1\" class=\"node\">\n<title>x</title>\n<ellipse fill=\"white\" stroke=\"black\" cx=\"27\" cy=\"-90\" rx=\"27\" ry=\"18\"/>\n<text text-anchor=\"middle\" x=\"27\" y=\"-86.3\" font-family=\"Times,serif\" font-size=\"14.00\">x</text>\n</g>\n<!-- y -->\n<g id=\"node2\" class=\"node\">\n<title>y</title>\n<ellipse fill=\"white\" stroke=\"black\" cx=\"27\" cy=\"-18\" rx=\"27\" ry=\"18\"/>\n<text text-anchor=\"middle\" x=\"27\" y=\"-14.3\" font-family=\"Times,serif\" font-size=\"14.00\">y</text>\n</g>\n<!-- x&#45;&gt;y -->\n<g id=\"edge1\" class=\"edge\">\n<title>x&#45;&gt;y</title>\n<path fill=\"none\" stroke=\"black\" d=\"M27,-71.7C27,-63.98 27,-54.71 27,-46.11\"/>\n<polygon fill=\"black\" stroke=\"black\" points=\"30.5,-46.1 27,-36.1 23.5,-46.1 30.5,-46.1\"/>\n</g>\n</g>\n</svg>\n",
            "text/plain": [
              "<graphviz.graphs.Digraph at 0x79d697d64f10>"
            ]
          },
          "metadata": {},
          "execution_count": 18
        }
      ],
      "source": [
        "pyro.render_model(my_model)\n",
        "\n",
        "# For this you need to install graphviz:\n",
        "# sudo apt install graphviz\n",
        "# pip install graphviz"
      ]
    },
    {
      "cell_type": "markdown",
      "source": [
        "The above is the probabilistic graph linked to our model.\n"
      ],
      "metadata": {
        "id": "Zeg799oC5HOu"
      }
    },
    {
      "cell_type": "code",
      "execution_count": 19,
      "metadata": {
        "id": "sYjHJeWB12zB",
        "outputId": "a0127589-773c-4cc7-e20f-126f7eba0549",
        "colab": {
          "base_uri": "https://localhost:8080/",
          "height": 179
        }
      },
      "outputs": [
        {
          "output_type": "execute_result",
          "data": {
            "image/svg+xml": "<?xml version=\"1.0\" encoding=\"UTF-8\" standalone=\"no\"?>\n<!DOCTYPE svg PUBLIC \"-//W3C//DTD SVG 1.1//EN\"\n \"http://www.w3.org/Graphics/SVG/1.1/DTD/svg11.dtd\">\n<!-- Generated by graphviz version 2.43.0 (0)\n -->\n<!-- Title: %3 Pages: 1 -->\n<svg width=\"170pt\" height=\"118pt\"\n viewBox=\"0.00 0.00 169.50 118.00\" xmlns=\"http://www.w3.org/2000/svg\" xmlns:xlink=\"http://www.w3.org/1999/xlink\">\n<g id=\"graph0\" class=\"graph\" transform=\"scale(1 1) rotate(0) translate(4 114)\">\n<title>%3</title>\n<polygon fill=\"white\" stroke=\"transparent\" points=\"-4,4 -4,-114 165.5,-114 165.5,4 -4,4\"/>\n<!-- x -->\n<g id=\"node1\" class=\"node\">\n<title>x</title>\n<ellipse fill=\"white\" stroke=\"black\" cx=\"27\" cy=\"-91\" rx=\"27\" ry=\"18\"/>\n<text text-anchor=\"middle\" x=\"27\" y=\"-87.3\" font-family=\"Times,serif\" font-size=\"14.00\">x</text>\n</g>\n<!-- y -->\n<g id=\"node2\" class=\"node\">\n<title>y</title>\n<ellipse fill=\"white\" stroke=\"black\" cx=\"27\" cy=\"-18\" rx=\"27\" ry=\"18\"/>\n<text text-anchor=\"middle\" x=\"27\" y=\"-14.3\" font-family=\"Times,serif\" font-size=\"14.00\">y</text>\n</g>\n<!-- x&#45;&gt;y -->\n<g id=\"edge1\" class=\"edge\">\n<title>x&#45;&gt;y</title>\n<path fill=\"none\" stroke=\"black\" d=\"M27,-72.81C27,-64.79 27,-55.05 27,-46.07\"/>\n<polygon fill=\"black\" stroke=\"black\" points=\"30.5,-46.03 27,-36.03 23.5,-46.03 30.5,-46.03\"/>\n</g>\n<!-- distribution_description_node -->\n<g id=\"node3\" class=\"node\">\n<title>distribution_description_node</title>\n<text text-anchor=\"start\" x=\"80.5\" y=\"-94.8\" font-family=\"Times,serif\" font-size=\"14.00\">x ~ Bernoulli</text>\n<text text-anchor=\"start\" x=\"80.5\" y=\"-79.8\" font-family=\"Times,serif\" font-size=\"14.00\">y ~ Normal</text>\n</g>\n</g>\n</svg>\n",
            "text/plain": [
              "<graphviz.graphs.Digraph at 0x79d6852fe310>"
            ]
          },
          "metadata": {},
          "execution_count": 19
        }
      ],
      "source": [
        "pyro.render_model(my_model, render_distributions=True)"
      ]
    },
    {
      "cell_type": "markdown",
      "metadata": {
        "id": "IhN6qV2f12zB"
      },
      "source": [
        "Plotting a Bayesian network is not the most useful thing you can do with pyro, but it shows you that pyro is able to understand the model from the code you write inside a function.\n",
        "\n",
        "**Inference** is actually the point of using a PPL as pyro, but in this lesson we will mostly limit ourselves to sampling, since you have still to learn about **approximate inference**."
      ]
    },
    {
      "cell_type": "markdown",
      "metadata": {
        "id": "eapvkD4q12zC"
      },
      "source": [
        "**Example: the *exam grade stochastic model***\n",
        "\n",
        "A **very false** (but probably didactically useful) model for the grade of an exam is the following:\n",
        "\n",
        "The grade of an exam (in tenths) depends on the difficulty of the exam and on the knowledge of the student, according to the following model:\n",
        "\n",
        "$$\\text{difficulty}\\sim\\text{Bern(0.5)}$$  \n",
        "$$\\text{knowledge}\\sim\\text{Bern(0.3)}$$  \n",
        "$$\\text{grade} \\sim \\mathcal{N}(\\mu = 4\\cdot\\text{knowledge}-2\\cdot\\text{difficulty}+4,\\sigma = 1)$$  \n",
        "\n",
        "We can easily implement this model in `Pyro`:"
      ]
    },
    {
      "cell_type": "code",
      "execution_count": 25,
      "metadata": {
        "id": "4oGzYs_Z12zC"
      },
      "outputs": [],
      "source": [
        "def describe_grade():\n",
        "    difficulty = pyro.sample(\"exam\", dist.Bernoulli(0.5))\n",
        "    is_hard = \"hard\" if difficulty.item() == 1.0 else \"easy\"\n",
        "\n",
        "    knowledge = pyro.sample(\"knowledge\", dist.Bernoulli(0.3))\n",
        "    is_knowledgeable = \"knowledgeable\" if knowledge.item() == 1.0 else \"not knowledg.\"\n",
        "\n",
        "    mu = 4 * knowledge - 2 * difficulty + 4\n",
        "    grade = pyro.sample(\"grade\", dist.Normal(loc=mu, scale=1))\n",
        "\n",
        "    print(f\"{is_hard} exam + {is_knowledgeable} student -> grade = {grade}\")\n",
        "\n"
      ]
    },
    {
      "cell_type": "code",
      "source": [
        "# generate probability values from the distribution\n",
        "for _ in range(10):\n",
        "    describe_grade()"
      ],
      "metadata": {
        "id": "YQxwlrpJ7HlZ",
        "outputId": "0e8a31a0-e201-4b6e-a1a9-a9604c2251a1",
        "colab": {
          "base_uri": "https://localhost:8080/"
        }
      },
      "execution_count": 26,
      "outputs": [
        {
          "output_type": "stream",
          "name": "stdout",
          "text": [
            "hard exam + not knowledg. student -> grade = 2.003199577331543\n",
            "easy exam + not knowledg. student -> grade = 4.142968654632568\n",
            "hard exam + not knowledg. student -> grade = 1.3641856908798218\n",
            "hard exam + not knowledg. student -> grade = 4.222259521484375\n",
            "easy exam + not knowledg. student -> grade = 3.1502432823181152\n",
            "easy exam + not knowledg. student -> grade = 3.203984260559082\n",
            "easy exam + not knowledg. student -> grade = 4.792539119720459\n",
            "hard exam + knowledgeable student -> grade = 5.510178089141846\n",
            "hard exam + knowledgeable student -> grade = 7.128554821014404\n",
            "easy exam + not knowledg. student -> grade = 5.966691017150879\n"
          ]
        }
      ]
    },
    {
      "cell_type": "markdown",
      "metadata": {
        "id": "9G9KRp7F12zC"
      },
      "source": [
        "We can use pyro to plot the bayesian net corresponding to a model we defined.:"
      ]
    },
    {
      "cell_type": "code",
      "execution_count": 27,
      "metadata": {
        "id": "xvSibSEG12zC",
        "outputId": "6f9419c5-8fbf-49c0-8b87-3c0c86eecdf6",
        "colab": {
          "base_uri": "https://localhost:8080/",
          "height": 193
        }
      },
      "outputs": [
        {
          "output_type": "stream",
          "name": "stdout",
          "text": [
            "hard exam + knowledgeable student -> grade = 6.768477439880371\n"
          ]
        },
        {
          "output_type": "execute_result",
          "data": {
            "image/svg+xml": "<?xml version=\"1.0\" encoding=\"UTF-8\" standalone=\"no\"?>\n<!DOCTYPE svg PUBLIC \"-//W3C//DTD SVG 1.1//EN\"\n \"http://www.w3.org/Graphics/SVG/1.1/DTD/svg11.dtd\">\n<!-- Generated by graphviz version 2.43.0 (0)\n -->\n<!-- Title: %3 Pages: 1 -->\n<svg width=\"186pt\" height=\"116pt\"\n viewBox=\"0.00 0.00 185.94 116.00\" xmlns=\"http://www.w3.org/2000/svg\" xmlns:xlink=\"http://www.w3.org/1999/xlink\">\n<g id=\"graph0\" class=\"graph\" transform=\"scale(1 1) rotate(0) translate(4 112)\">\n<title>%3</title>\n<polygon fill=\"white\" stroke=\"transparent\" points=\"-4,4 -4,-112 181.94,-112 181.94,4 -4,4\"/>\n<!-- exam -->\n<g id=\"node1\" class=\"node\">\n<title>exam</title>\n<ellipse fill=\"white\" stroke=\"black\" cx=\"30.55\" cy=\"-90\" rx=\"30.59\" ry=\"18\"/>\n<text text-anchor=\"middle\" x=\"30.55\" y=\"-86.3\" font-family=\"Times,serif\" font-size=\"14.00\">exam</text>\n</g>\n<!-- grade -->\n<g id=\"node3\" class=\"node\">\n<title>grade</title>\n<ellipse fill=\"white\" stroke=\"black\" cx=\"79.55\" cy=\"-18\" rx=\"30.59\" ry=\"18\"/>\n<text text-anchor=\"middle\" x=\"79.55\" y=\"-14.3\" font-family=\"Times,serif\" font-size=\"14.00\">grade</text>\n</g>\n<!-- exam&#45;&gt;grade -->\n<g id=\"edge1\" class=\"edge\">\n<title>exam&#45;&gt;grade</title>\n<path fill=\"none\" stroke=\"black\" d=\"M41.67,-73.12C47.87,-64.26 55.72,-53.04 62.67,-43.12\"/>\n<polygon fill=\"black\" stroke=\"black\" points=\"65.61,-45.02 68.47,-34.82 59.87,-41.01 65.61,-45.02\"/>\n</g>\n<!-- knowledge -->\n<g id=\"node2\" class=\"node\">\n<title>knowledge</title>\n<ellipse fill=\"white\" stroke=\"black\" cx=\"128.55\" cy=\"-90\" rx=\"49.29\" ry=\"18\"/>\n<text text-anchor=\"middle\" x=\"128.55\" y=\"-86.3\" font-family=\"Times,serif\" font-size=\"14.00\">knowledge</text>\n</g>\n<!-- knowledge&#45;&gt;grade -->\n<g id=\"edge2\" class=\"edge\">\n<title>knowledge&#45;&gt;grade</title>\n<path fill=\"none\" stroke=\"black\" d=\"M116.93,-72.41C110.87,-63.74 103.33,-52.97 96.61,-43.38\"/>\n<polygon fill=\"black\" stroke=\"black\" points=\"99.34,-41.17 90.74,-34.99 93.61,-45.19 99.34,-41.17\"/>\n</g>\n</g>\n</svg>\n",
            "text/plain": [
              "<graphviz.graphs.Digraph at 0x79d68277b950>"
            ]
          },
          "metadata": {},
          "execution_count": 27
        }
      ],
      "source": [
        "pyro.render_model(describe_grade) # in order to draw the model we need to sample again"
      ]
    },
    {
      "cell_type": "markdown",
      "metadata": {
        "id": "3gyllmJD12zD"
      },
      "source": [
        "We can also compute the likelihood of samples:"
      ]
    },
    {
      "cell_type": "code",
      "execution_count": 33,
      "metadata": {
        "id": "GplJqFp712zD",
        "outputId": "eaf2c40f-c23f-4360-dcd2-2aef6bea5ddd",
        "colab": {
          "base_uri": "https://localhost:8080/"
        }
      },
      "outputs": [
        {
          "output_type": "stream",
          "name": "stdout",
          "text": [
            "easy exam + not knowledg. student -> grade = 3.0833616256713867\n",
            "sample likelihood: 0.09173295646905899\n"
          ]
        }
      ],
      "source": [
        "def compute_likelihood(model, *args):\n",
        "    return torch.exp(pyro.poutine.trace(model).get_trace(*args).log_prob_sum()).item()\n",
        "\n",
        "print('sample likelihood:', compute_likelihood(describe_grade))"
      ]
    },
    {
      "cell_type": "markdown",
      "metadata": {
        "id": "uTaIBI9i12zD"
      },
      "source": [
        "This is probably not really useful by itself, but the possibility to compute the likelihood is fundamental for most inference techniques (just think about maximum likelihood estimation)."
      ]
    },
    {
      "cell_type": "markdown",
      "metadata": {
        "id": "dLrj8a2T12zD"
      },
      "source": [
        "**Example: weather**"
      ]
    },
    {
      "cell_type": "code",
      "execution_count": 34,
      "metadata": {
        "id": "PHosY9fP12zE",
        "outputId": "93951f29-7ae4-4955-8cfc-21d461d996cf",
        "colab": {
          "base_uri": "https://localhost:8080/"
        }
      },
      "outputs": [
        {
          "output_type": "stream",
          "name": "stdout",
          "text": [
            "{'weather': 'sunny', 'temp': 23.74595832824707}\n",
            "{'weather': 'sunny', 'temp': 29.148513793945312}\n",
            "{'weather': 'sunny', 'temp': 24.332351684570312}\n",
            "{'weather': 'cloudy', 'temp': 1.6114625930786133}\n",
            "{'weather': 'sunny', 'temp': 17.395214080810547}\n"
          ]
        }
      ],
      "source": [
        "def weather():# -> dict[str, Any]:\n",
        "    is_cloudy = pyro.sample(\"cloudy\", dist.Bernoulli(0.3))\n",
        "    weather = \"cloudy\" if is_cloudy.item() == 1.0 else \"sunny\"\n",
        "\n",
        "    loc_temp = 12.0 if weather == \"cloudy\" else 23.00\n",
        "    scale_temp = 5.0 if weather == \"cloudy\" else 6.00\n",
        "    temp = pyro.sample(\"temp\", dist.Normal(loc_temp, scale_temp))\n",
        "    return {\"weather\": weather, \"temp\": temp.item()}\n",
        "\n",
        "for _ in range(5):\n",
        "    print(weather())"
      ]
    },
    {
      "cell_type": "markdown",
      "metadata": {
        "id": "4cyZl6Mr12zE"
      },
      "source": [
        "Additionally, we could use this stochastic function to model the sales of ice cream based on the weather."
      ]
    },
    {
      "cell_type": "code",
      "execution_count": 35,
      "metadata": {
        "id": "TijXtIrD12zE",
        "outputId": "6737a5d1-32b2-49ac-caf7-2a6637005245",
        "colab": {
          "base_uri": "https://localhost:8080/"
        }
      },
      "outputs": [
        {
          "output_type": "stream",
          "name": "stdout",
          "text": [
            "19.992782592773438\n",
            "4.843769550323486\n",
            "10.649709701538086\n",
            "21.23023223876953\n",
            "4.479503154754639\n"
          ]
        }
      ],
      "source": [
        "def ice_cream_sales():\n",
        "    is_cloudy, temp = weather()\n",
        "    expected_sales = 200.0 if (is_cloudy == 1 and temp > 35.0) else 20.0\n",
        "    sales = pyro.sample(\"ice_cream\", pyro.distributions.HalfNormal(expected_sales, 10.0))\n",
        "    return sales.item()\n",
        "\n",
        "for _ in range(5):\n",
        "    print(ice_cream_sales())"
      ]
    },
    {
      "cell_type": "markdown",
      "metadata": {
        "id": "oVzPtgJ012zE"
      },
      "source": [
        "This represents the following model\n",
        "$$p(\\text{cloudy}, \\text{temp}, \\text{ice cream sales}) = p(\\text{ice cream sales} |  \\text{temp}, \\text{cloudy})p( \\text{temp} | \\text{cloudy})p(\\text{cloudy})$$\n",
        "We can find any marginal as $p(\\text{ice cream sales})$ by simulation (instead of by marginalization). It is sufficient to get enough samples and look at the histogram of ice_cream_sales:"
      ]
    },
    {
      "cell_type": "code",
      "execution_count": 36,
      "metadata": {
        "id": "8BvCTY9y12zF",
        "outputId": "c1dd92d8-0e51-4087-fcf3-aee1a7152a94",
        "colab": {
          "base_uri": "https://localhost:8080/",
          "height": 430
        }
      },
      "outputs": [
        {
          "output_type": "display_data",
          "data": {
            "text/plain": [
              "<Figure size 640x480 with 1 Axes>"
            ],
            "image/png": "[encoded data removed]"
          },
          "metadata": {}
        }
      ],
      "source": [
        "n = 10_000\n",
        "samples = [ice_cream_sales() for _ in range(n)]\n",
        "_ = sns.histplot(samples, kde=True)"
      ]
    },
    {
      "cell_type": "markdown",
      "source": [
        "We plot the probability distribution, a one sided normal. We observe e.g the value 10 600 times, and other more extreme values much more infrequently."
      ],
      "metadata": {
        "id": "PmUfgzFw84yH"
      }
    },
    {
      "cell_type": "markdown",
      "metadata": {
        "id": "5QrvtSmk12zF"
      },
      "source": [
        "Quite slow, right?"
      ]
    },
    {
      "cell_type": "markdown",
      "metadata": {
        "id": "l1iFtEJg12zF"
      },
      "source": [
        "### Observed values"
      ]
    },
    {
      "cell_type": "markdown",
      "metadata": {
        "id": "2pvH_bc212zF"
      },
      "source": [
        "Let's consider again the exam grade model.\n",
        "\n",
        "The `pyro.sample` method accepts also a `obs` argument, this can be used to tell the model that you have observed a value for that random variable. As a result of this, the output will be exactly the given observations (unless `obs=None`). What's the point of this? Again, this is something useful for **inference**, but here we can just check that pyro is able to recognize it."
      ]
    },
    {
      "cell_type": "code",
      "execution_count": 37,
      "metadata": {
        "id": "qGtMXd8t12zF",
        "outputId": "b94dc2cd-fba4-4587-9ca4-f9e1275d3678",
        "colab": {
          "base_uri": "https://localhost:8080/"
        }
      },
      "outputs": [
        {
          "output_type": "stream",
          "name": "stdout",
          "text": [
            "easy exam + knowledgeable student -> grade = 9.84670639038086\n"
          ]
        }
      ],
      "source": [
        "def describe_grade(obs=None):\n",
        "    difficulty = pyro.sample(\"exam\", dist.Bernoulli(0.5))\n",
        "    is_hard = \"hard\" if difficulty.item() == 1.0 else \"easy\"\n",
        "\n",
        "    knowledge = pyro.sample(\"knowledge\", dist.Bernoulli(0.3))\n",
        "    is_knowledgeable = \"knowledgeable\" if knowledge.item() == 1.0 else \"not knowledg.\"\n",
        "\n",
        "    mu = 4 * knowledge - 2 * difficulty + 4\n",
        "    grade = pyro.sample(\"grade\", dist.Normal(loc=mu, scale=1), obs=obs) # HERE!\n",
        "\n",
        "    print(f\"{is_hard} exam + {is_knowledgeable} student -> grade = {grade}\")\n",
        "\n",
        "describe_grade()"
      ]
    },
    {
      "cell_type": "code",
      "execution_count": 38,
      "metadata": {
        "id": "1AAWIVIa12zd",
        "outputId": "754d8851-3e66-459d-e9b9-f9a0b772b5f7",
        "colab": {
          "base_uri": "https://localhost:8080/",
          "height": 193
        }
      },
      "outputs": [
        {
          "output_type": "stream",
          "name": "stdout",
          "text": [
            "easy exam + not knowledg. student -> grade = 5.652338027954102\n"
          ]
        },
        {
          "output_type": "execute_result",
          "data": {
            "image/svg+xml": "<?xml version=\"1.0\" encoding=\"UTF-8\" standalone=\"no\"?>\n<!DOCTYPE svg PUBLIC \"-//W3C//DTD SVG 1.1//EN\"\n \"http://www.w3.org/Graphics/SVG/1.1/DTD/svg11.dtd\">\n<!-- Generated by graphviz version 2.43.0 (0)\n -->\n<!-- Title: %3 Pages: 1 -->\n<svg width=\"186pt\" height=\"116pt\"\n viewBox=\"0.00 0.00 185.94 116.00\" xmlns=\"http://www.w3.org/2000/svg\" xmlns:xlink=\"http://www.w3.org/1999/xlink\">\n<g id=\"graph0\" class=\"graph\" transform=\"scale(1 1) rotate(0) translate(4 112)\">\n<title>%3</title>\n<polygon fill=\"white\" stroke=\"transparent\" points=\"-4,4 -4,-112 181.94,-112 181.94,4 -4,4\"/>\n<!-- exam -->\n<g id=\"node1\" class=\"node\">\n<title>exam</title>\n<ellipse fill=\"white\" stroke=\"black\" cx=\"30.55\" cy=\"-90\" rx=\"30.59\" ry=\"18\"/>\n<text text-anchor=\"middle\" x=\"30.55\" y=\"-86.3\" font-family=\"Times,serif\" font-size=\"14.00\">exam</text>\n</g>\n<!-- grade -->\n<g id=\"node3\" class=\"node\">\n<title>grade</title>\n<ellipse fill=\"white\" stroke=\"black\" cx=\"79.55\" cy=\"-18\" rx=\"30.59\" ry=\"18\"/>\n<text text-anchor=\"middle\" x=\"79.55\" y=\"-14.3\" font-family=\"Times,serif\" font-size=\"14.00\">grade</text>\n</g>\n<!-- exam&#45;&gt;grade -->\n<g id=\"edge1\" class=\"edge\">\n<title>exam&#45;&gt;grade</title>\n<path fill=\"none\" stroke=\"black\" d=\"M41.67,-73.12C47.87,-64.26 55.72,-53.04 62.67,-43.12\"/>\n<polygon fill=\"black\" stroke=\"black\" points=\"65.61,-45.02 68.47,-34.82 59.87,-41.01 65.61,-45.02\"/>\n</g>\n<!-- knowledge -->\n<g id=\"node2\" class=\"node\">\n<title>knowledge</title>\n<ellipse fill=\"white\" stroke=\"black\" cx=\"128.55\" cy=\"-90\" rx=\"49.29\" ry=\"18\"/>\n<text text-anchor=\"middle\" x=\"128.55\" y=\"-86.3\" font-family=\"Times,serif\" font-size=\"14.00\">knowledge</text>\n</g>\n<!-- knowledge&#45;&gt;grade -->\n<g id=\"edge2\" class=\"edge\">\n<title>knowledge&#45;&gt;grade</title>\n<path fill=\"none\" stroke=\"black\" d=\"M116.93,-72.41C110.87,-63.74 103.33,-52.97 96.61,-43.38\"/>\n<polygon fill=\"black\" stroke=\"black\" points=\"99.34,-41.17 90.74,-34.99 93.61,-45.19 99.34,-41.17\"/>\n</g>\n</g>\n</svg>\n",
            "text/plain": [
              "<graphviz.graphs.Digraph at 0x79d681f7d350>"
            ]
          },
          "metadata": {},
          "execution_count": 38
        }
      ],
      "source": [
        "pyro.render_model(describe_grade) #obs is None by default"
      ]
    },
    {
      "cell_type": "code",
      "execution_count": 39,
      "metadata": {
        "id": "1aCA35a712zd",
        "outputId": "89b45283-1e60-4be8-f9cf-cc532059014c",
        "colab": {
          "base_uri": "https://localhost:8080/",
          "height": 193
        }
      },
      "outputs": [
        {
          "output_type": "stream",
          "name": "stdout",
          "text": [
            "easy exam + not knowledg. student -> grade = 10.0\n"
          ]
        },
        {
          "output_type": "execute_result",
          "data": {
            "image/svg+xml": "<?xml version=\"1.0\" encoding=\"UTF-8\" standalone=\"no\"?>\n<!DOCTYPE svg PUBLIC \"-//W3C//DTD SVG 1.1//EN\"\n \"http://www.w3.org/Graphics/SVG/1.1/DTD/svg11.dtd\">\n<!-- Generated by graphviz version 2.43.0 (0)\n -->\n<!-- Title: %3 Pages: 1 -->\n<svg width=\"186pt\" height=\"116pt\"\n viewBox=\"0.00 0.00 185.94 116.00\" xmlns=\"http://www.w3.org/2000/svg\" xmlns:xlink=\"http://www.w3.org/1999/xlink\">\n<g id=\"graph0\" class=\"graph\" transform=\"scale(1 1) rotate(0) translate(4 112)\">\n<title>%3</title>\n<polygon fill=\"white\" stroke=\"transparent\" points=\"-4,4 -4,-112 181.94,-112 181.94,4 -4,4\"/>\n<!-- exam -->\n<g id=\"node1\" class=\"node\">\n<title>exam</title>\n<ellipse fill=\"white\" stroke=\"black\" cx=\"30.55\" cy=\"-90\" rx=\"30.59\" ry=\"18\"/>\n<text text-anchor=\"middle\" x=\"30.55\" y=\"-86.3\" font-family=\"Times,serif\" font-size=\"14.00\">exam</text>\n</g>\n<!-- grade -->\n<g id=\"node3\" class=\"node\">\n<title>grade</title>\n<ellipse fill=\"gray\" stroke=\"black\" cx=\"79.55\" cy=\"-18\" rx=\"30.59\" ry=\"18\"/>\n<text text-anchor=\"middle\" x=\"79.55\" y=\"-14.3\" font-family=\"Times,serif\" font-size=\"14.00\">grade</text>\n</g>\n<!-- exam&#45;&gt;grade -->\n<g id=\"edge1\" class=\"edge\">\n<title>exam&#45;&gt;grade</title>\n<path fill=\"none\" stroke=\"black\" d=\"M41.67,-73.12C47.87,-64.26 55.72,-53.04 62.67,-43.12\"/>\n<polygon fill=\"black\" stroke=\"black\" points=\"65.61,-45.02 68.47,-34.82 59.87,-41.01 65.61,-45.02\"/>\n</g>\n<!-- knowledge -->\n<g id=\"node2\" class=\"node\">\n<title>knowledge</title>\n<ellipse fill=\"white\" stroke=\"black\" cx=\"128.55\" cy=\"-90\" rx=\"49.29\" ry=\"18\"/>\n<text text-anchor=\"middle\" x=\"128.55\" y=\"-86.3\" font-family=\"Times,serif\" font-size=\"14.00\">knowledge</text>\n</g>\n<!-- knowledge&#45;&gt;grade -->\n<g id=\"edge2\" class=\"edge\">\n<title>knowledge&#45;&gt;grade</title>\n<path fill=\"none\" stroke=\"black\" d=\"M116.93,-72.41C110.87,-63.74 103.33,-52.97 96.61,-43.38\"/>\n<polygon fill=\"black\" stroke=\"black\" points=\"99.34,-41.17 90.74,-34.99 93.61,-45.19 99.34,-41.17\"/>\n</g>\n</g>\n</svg>\n",
            "text/plain": [
              "<graphviz.graphs.Digraph at 0x79d681e93190>"
            ]
          },
          "metadata": {},
          "execution_count": 39
        }
      ],
      "source": [
        "pyro.render_model(describe_grade, model_args=(torch.tensor(10.0),))"
      ]
    },
    {
      "cell_type": "markdown",
      "metadata": {
        "id": "XkoI6MeA12ze"
      },
      "source": [
        "Sampling doesn't make sense anymore, since the value of the observed variable is fixed, but the other random variables don't change accordingly!"
      ]
    },
    {
      "cell_type": "code",
      "execution_count": 40,
      "metadata": {
        "id": "14fnQxPF12ze",
        "outputId": "7df88cb4-cd52-4849-c6a5-77b024c024ce",
        "colab": {
          "base_uri": "https://localhost:8080/"
        }
      },
      "outputs": [
        {
          "output_type": "stream",
          "name": "stdout",
          "text": [
            "easy exam + not knowledg. student -> grade = 5.652338027954102\n"
          ]
        }
      ],
      "source": [
        "describe_grade(obs=None) # this is ok"
      ]
    },
    {
      "cell_type": "code",
      "execution_count": 41,
      "metadata": {
        "id": "_CgnKjZw12ze",
        "outputId": "9e76c70b-2611-497b-ed3d-f2e320c75721",
        "colab": {
          "base_uri": "https://localhost:8080/"
        }
      },
      "outputs": [
        {
          "output_type": "stream",
          "name": "stdout",
          "text": [
            "easy exam + not knowledg. student -> grade = 60.0\n"
          ]
        },
        {
          "output_type": "stream",
          "name": "stderr",
          "text": [
            "/usr/local/lib/python3.11/dist-packages/pyro/primitives.py:163: RuntimeWarning: trying to observe a value outside of inference at grade\n",
            "  warnings.warn(\n"
          ]
        }
      ],
      "source": [
        "describe_grade(obs=torch.tensor(60.0)) # this is not ok, you can see the warning (max = 10)"
      ]
    },
    {
      "cell_type": "markdown",
      "metadata": {
        "id": "Z0DA4dL812ze"
      },
      "source": [
        "Observed values are mostly useful for **inference**, but here we show an example of likelihood computation exploiting observed values:"
      ]
    },
    {
      "cell_type": "code",
      "execution_count": null,
      "metadata": {
        "id": "90Xrdjs212ze"
      },
      "outputs": [],
      "source": [
        "def parametric_model(obs_x=None, obs_y=None):\n",
        "    x = pyro.sample(\"x\", dist.Bernoulli(0.2), obs=obs_x)\n",
        "    pyro.sample(\"y\", dist.Bernoulli(0.6*x), obs=obs_y)"
      ]
    },
    {
      "cell_type": "code",
      "execution_count": null,
      "metadata": {
        "id": "eAS1EvzA12zf",
        "outputId": "06e1d6b1-317b-4317-8dca-8451c8b59431"
      },
      "outputs": [
        {
          "name": "stdout",
          "output_type": "stream",
          "text": [
            "p(x=0,y=0)=0.8\n",
            "p(x=0,y=1)=0.0\n",
            "p(x=1,y=0)=0.08\n",
            "p(x=1,y=1)=0.12\n"
          ]
        }
      ],
      "source": [
        "for x in (0.0, 1.0): # tuple, x/y are either 0 or 1\n",
        "    for y in (0.0, 1.0):\n",
        "        likelihood = round(compute_likelihood(parametric_model, torch.tensor(x), torch.tensor(y)),3)\n",
        "        print(f\"p(x={int(x)},y={int(y)})={likelihood}\")"
      ]
    },
    {
      "cell_type": "markdown",
      "source": [
        "(0, 0) has a high likelihood: our model is built on a bernoulli with 0.2 probability.\n",
        "(0, 1) instead has an extremely low value: y is dependent on X (0 comes out with 0.2 prob), so it's extremely unlikely that it deviates this much (with a 1 coming out of it, given that X was actually 0)."
      ],
      "metadata": {
        "id": "GMUy1FWp-Hyr"
      }
    },
    {
      "cell_type": "markdown",
      "metadata": {
        "id": "npNZSGnN12zf"
      },
      "source": [
        "### Multiple samples"
      ]
    },
    {
      "cell_type": "markdown",
      "metadata": {
        "id": "Kk7VdAfm12zf"
      },
      "source": [
        "Considering the exam-grad model, suppose that the exam is taken by several students and that we want to model this aspect.\n",
        "A simple way to do this is to sample the variables `knowledge` and `grade` many times using a loop:"
      ]
    },
    {
      "cell_type": "code",
      "execution_count": 42,
      "metadata": {
        "id": "wEIYVvsQ12zf"
      },
      "outputs": [],
      "source": [
        "def describe_grade():\n",
        "    N = 10\n",
        "    difficulty = pyro.sample(\"exam\", dist.Bernoulli(0.5))\n",
        "\n",
        "    grades = torch.zeros(N)\n",
        "    for i in range(N):\n",
        "        knowledge = pyro.sample(f\"knowledge_{i}\", dist.Bernoulli(0.3))\n",
        "        mu = 4 * knowledge - 2 * difficulty + 4\n",
        "        grades[i] = pyro.sample(f\"grade_{i}\", dist.Normal(loc=mu, scale=1))\n",
        "\n",
        "    return grades"
      ]
    },
    {
      "cell_type": "code",
      "execution_count": 43,
      "metadata": {
        "id": "1_NLLWeV12zg",
        "outputId": "80da467d-3868-407f-a0fc-4bafafb74058",
        "colab": {
          "base_uri": "https://localhost:8080/"
        }
      },
      "outputs": [
        {
          "output_type": "stream",
          "name": "stdout",
          "text": [
            "grades:  tensor([3.9485, 3.2933, 3.3091, 3.0791, 3.9829, 5.7218, 4.4431, 8.5601, 2.0183,\n",
            "        3.4108])\n"
          ]
        }
      ],
      "source": [
        "print(\"grades: \", describe_grade())"
      ]
    },
    {
      "cell_type": "code",
      "execution_count": 44,
      "metadata": {
        "id": "dx4plchg12zg",
        "outputId": "e7299653-2cde-4562-a784-a6f4dfe22864",
        "colab": {
          "base_uri": "https://localhost:8080/",
          "height": 196
        }
      },
      "outputs": [
        {
          "output_type": "execute_result",
          "data": {
            "image/svg+xml": "<?xml version=\"1.0\" encoding=\"UTF-8\" standalone=\"no\"?>\n<!DOCTYPE svg PUBLIC \"-//W3C//DTD SVG 1.1//EN\"\n \"http://www.w3.org/Graphics/SVG/1.1/DTD/svg11.dtd\">\n<!-- Generated by graphviz version 2.43.0 (0)\n -->\n<!-- Title: %3 Pages: 1 -->\n<svg width=\"1408pt\" height=\"116pt\"\n viewBox=\"0.00 0.00 1407.69 116.00\" xmlns=\"http://www.w3.org/2000/svg\" xmlns:xlink=\"http://www.w3.org/1999/xlink\">\n<g id=\"graph0\" class=\"graph\" transform=\"scale(1 1) rotate(0) translate(4 112)\">\n<title>%3</title>\n<polygon fill=\"white\" stroke=\"transparent\" points=\"-4,4 -4,-112 1403.69,-112 1403.69,4 -4,4\"/>\n<!-- exam -->\n<g id=\"node1\" class=\"node\">\n<title>exam</title>\n<ellipse fill=\"white\" stroke=\"black\" cx=\"699.84\" cy=\"-90\" rx=\"30.59\" ry=\"18\"/>\n<text text-anchor=\"middle\" x=\"699.84\" y=\"-86.3\" font-family=\"Times,serif\" font-size=\"14.00\">exam</text>\n</g>\n<!-- grade_0 -->\n<g id=\"node3\" class=\"node\">\n<title>grade_0</title>\n<ellipse fill=\"white\" stroke=\"black\" cx=\"95.84\" cy=\"-18\" rx=\"38.99\" ry=\"18\"/>\n<text text-anchor=\"middle\" x=\"95.84\" y=\"-14.3\" font-family=\"Times,serif\" font-size=\"14.00\">grade_0</text>\n</g>\n<!-- exam&#45;&gt;grade_0 -->\n<g id=\"edge1\" class=\"edge\">\n<title>exam&#45;&gt;grade_0</title>\n<path fill=\"none\" stroke=\"black\" d=\"M677.2,-77.6C671.95,-75.39 666.3,-73.34 660.84,-72 445.38,-18.9 381.91,-71.43 162.84,-36 154.68,-34.68 146.05,-32.84 137.8,-30.85\"/>\n<polygon fill=\"black\" stroke=\"black\" points=\"138.53,-27.42 127.98,-28.38 136.82,-34.21 138.53,-27.42\"/>\n</g>\n<!-- grade_1 -->\n<g id=\"node5\" class=\"node\">\n<title>grade_1</title>\n<ellipse fill=\"white\" stroke=\"black\" cx=\"210.84\" cy=\"-18\" rx=\"38.99\" ry=\"18\"/>\n<text text-anchor=\"middle\" x=\"210.84\" y=\"-14.3\" font-family=\"Times,serif\" font-size=\"14.00\">grade_1</text>\n</g>\n<!-- exam&#45;&gt;grade_1 -->\n<g id=\"edge3\" class=\"edge\">\n<title>exam&#45;&gt;grade_1</title>\n<path fill=\"none\" stroke=\"black\" d=\"M677.17,-77.7C671.92,-75.49 666.28,-73.42 660.84,-72 503.53,-31.02 457.66,-59.79 296.84,-36 283.29,-33.99 268.63,-31.3 255.32,-28.64\"/>\n<polygon fill=\"black\" stroke=\"black\" points=\"255.94,-25.2 245.44,-26.63 254.54,-32.06 255.94,-25.2\"/>\n</g>\n<!-- grade_2 -->\n<g id=\"node7\" class=\"node\">\n<title>grade_2</title>\n<ellipse fill=\"white\" stroke=\"black\" cx=\"344.84\" cy=\"-18\" rx=\"38.99\" ry=\"18\"/>\n<text text-anchor=\"middle\" x=\"344.84\" y=\"-14.3\" font-family=\"Times,serif\" font-size=\"14.00\">grade_2</text>\n</g>\n<!-- exam&#45;&gt;grade_2 -->\n<g id=\"edge5\" class=\"edge\">\n<title>exam&#45;&gt;grade_2</title>\n<path fill=\"none\" stroke=\"black\" d=\"M677.11,-77.93C671.86,-75.7 666.23,-73.57 660.84,-72 561.5,-43.09 532.73,-54.04 430.84,-36 417.47,-33.63 402.97,-30.85 389.75,-28.23\"/>\n<polygon fill=\"black\" stroke=\"black\" points=\"390.43,-24.79 379.93,-26.26 389.05,-31.66 390.43,-24.79\"/>\n</g>\n<!-- grade_3 -->\n<g id=\"node9\" class=\"node\">\n<title>grade_3</title>\n<ellipse fill=\"white\" stroke=\"black\" cx=\"478.84\" cy=\"-18\" rx=\"38.99\" ry=\"18\"/>\n<text text-anchor=\"middle\" x=\"478.84\" y=\"-14.3\" font-family=\"Times,serif\" font-size=\"14.00\">grade_3</text>\n</g>\n<!-- exam&#45;&gt;grade_3 -->\n<g id=\"edge7\" class=\"edge\">\n<title>exam&#45;&gt;grade_3</title>\n<path fill=\"none\" stroke=\"black\" d=\"M676.53,-78.26C671.41,-76.07 665.98,-73.86 660.84,-72 614.31,-55.16 559.66,-39.82 522.47,-30.02\"/>\n<polygon fill=\"black\" stroke=\"black\" points=\"523.03,-26.55 512.47,-27.41 521.26,-33.33 523.03,-26.55\"/>\n</g>\n<!-- grade_4 -->\n<g id=\"node11\" class=\"node\">\n<title>grade_4</title>\n<ellipse fill=\"white\" stroke=\"black\" cx=\"608.84\" cy=\"-18\" rx=\"38.99\" ry=\"18\"/>\n<text text-anchor=\"middle\" x=\"608.84\" y=\"-14.3\" font-family=\"Times,serif\" font-size=\"14.00\">grade_4</text>\n</g>\n<!-- exam&#45;&gt;grade_4 -->\n<g id=\"edge9\" class=\"edge\">\n<title>exam&#45;&gt;grade_4</title>\n<path fill=\"none\" stroke=\"black\" d=\"M681.87,-75.17C668.88,-65.18 651.09,-51.5 636.33,-40.14\"/>\n<polygon fill=\"black\" stroke=\"black\" points=\"638.1,-37.09 628.04,-33.77 633.84,-42.64 638.1,-37.09\"/>\n</g>\n<!-- grade_5 -->\n<g id=\"node13\" class=\"node\">\n<title>grade_5</title>\n<ellipse fill=\"white\" stroke=\"black\" cx=\"720.84\" cy=\"-18\" rx=\"38.99\" ry=\"18\"/>\n<text text-anchor=\"middle\" x=\"720.84\" y=\"-14.3\" font-family=\"Times,serif\" font-size=\"14.00\">grade_5</text>\n</g>\n<!-- exam&#45;&gt;grade_5 -->\n<g id=\"edge11\" class=\"edge\">\n<title>exam&#45;&gt;grade_5</title>\n<path fill=\"none\" stroke=\"black\" d=\"M704.93,-72.05C707.27,-64.26 710.1,-54.82 712.72,-46.08\"/>\n<polygon fill=\"black\" stroke=\"black\" points=\"716.14,-46.86 715.66,-36.28 709.44,-44.85 716.14,-46.86\"/>\n</g>\n<!-- grade_6 -->\n<g id=\"node15\" class=\"node\">\n<title>grade_6</title>\n<ellipse fill=\"white\" stroke=\"black\" cx=\"888.84\" cy=\"-18\" rx=\"38.99\" ry=\"18\"/>\n<text text-anchor=\"middle\" x=\"888.84\" y=\"-14.3\" font-family=\"Times,serif\" font-size=\"14.00\">grade_6</text>\n</g>\n<!-- exam&#45;&gt;grade_6 -->\n<g id=\"edge13\" class=\"edge\">\n<title>exam&#45;&gt;grade_6</title>\n<path fill=\"none\" stroke=\"black\" d=\"M723.66,-78.3C728.65,-76.15 733.9,-73.95 738.84,-72 775.55,-57.54 818,-42.71 848.35,-32.43\"/>\n<polygon fill=\"black\" stroke=\"black\" points=\"849.8,-35.64 858.16,-29.13 847.56,-29 849.8,-35.64\"/>\n</g>\n<!-- grade_7 -->\n<g id=\"node17\" class=\"node\">\n<title>grade_7</title>\n<ellipse fill=\"white\" stroke=\"black\" cx=\"1039.84\" cy=\"-18\" rx=\"38.99\" ry=\"18\"/>\n<text text-anchor=\"middle\" x=\"1039.84\" y=\"-14.3\" font-family=\"Times,serif\" font-size=\"14.00\">grade_7</text>\n</g>\n<!-- exam&#45;&gt;grade_7 -->\n<g id=\"edge15\" class=\"edge\">\n<title>exam&#45;&gt;grade_7</title>\n<path fill=\"none\" stroke=\"black\" d=\"M723.02,-77.83C728.15,-75.66 733.61,-73.58 738.84,-72 750.98,-68.34 912.69,-40.62 993.93,-26.79\"/>\n<polygon fill=\"black\" stroke=\"black\" points=\"994.62,-30.22 1003.89,-25.1 993.45,-23.32 994.62,-30.22\"/>\n</g>\n<!-- grade_8 -->\n<g id=\"node19\" class=\"node\">\n<title>grade_8</title>\n<ellipse fill=\"white\" stroke=\"black\" cx=\"1181.84\" cy=\"-18\" rx=\"38.99\" ry=\"18\"/>\n<text text-anchor=\"middle\" x=\"1181.84\" y=\"-14.3\" font-family=\"Times,serif\" font-size=\"14.00\">grade_8</text>\n</g>\n<!-- exam&#45;&gt;grade_8 -->\n<g id=\"edge17\" class=\"edge\">\n<title>exam&#45;&gt;grade_8</title>\n<path fill=\"none\" stroke=\"black\" d=\"M722.52,-77.72C727.77,-75.5 733.42,-73.43 738.84,-72 889.66,-32.38 933.45,-57.89 1087.84,-36 1103.87,-33.73 1121.35,-30.72 1136.83,-27.86\"/>\n<polygon fill=\"black\" stroke=\"black\" points=\"1137.5,-31.3 1146.68,-26.01 1136.21,-24.42 1137.5,-31.3\"/>\n</g>\n<!-- grade_9 -->\n<g id=\"node21\" class=\"node\">\n<title>grade_9</title>\n<ellipse fill=\"white\" stroke=\"black\" cx=\"1319.84\" cy=\"-18\" rx=\"38.99\" ry=\"18\"/>\n<text text-anchor=\"middle\" x=\"1319.84\" y=\"-14.3\" font-family=\"Times,serif\" font-size=\"14.00\">grade_9</text>\n</g>\n<!-- exam&#45;&gt;grade_9 -->\n<g id=\"edge19\" class=\"edge\">\n<title>exam&#45;&gt;grade_9</title>\n<path fill=\"none\" stroke=\"black\" d=\"M722.49,-77.6C727.74,-75.39 733.4,-73.35 738.84,-72 951.27,-19.54 1012.88,-64.35 1229.84,-36 1244.69,-34.06 1260.79,-31.25 1275.21,-28.47\"/>\n<polygon fill=\"black\" stroke=\"black\" points=\"1276.24,-31.83 1285.37,-26.46 1274.89,-24.96 1276.24,-31.83\"/>\n</g>\n<!-- knowledge_0 -->\n<g id=\"node2\" class=\"node\">\n<title>knowledge_0</title>\n<ellipse fill=\"white\" stroke=\"black\" cx=\"57.84\" cy=\"-90\" rx=\"57.69\" ry=\"18\"/>\n<text text-anchor=\"middle\" x=\"57.84\" y=\"-86.3\" font-family=\"Times,serif\" font-size=\"14.00\">knowledge_0</text>\n</g>\n<!-- knowledge_0&#45;&gt;grade_0 -->\n<g id=\"edge2\" class=\"edge\">\n<title>knowledge_0&#45;&gt;grade_0</title>\n<path fill=\"none\" stroke=\"black\" d=\"M67.04,-72.05C71.48,-63.89 76.89,-53.91 81.83,-44.82\"/>\n<polygon fill=\"black\" stroke=\"black\" points=\"85.04,-46.25 86.73,-35.79 78.88,-42.91 85.04,-46.25\"/>\n</g>\n<!-- knowledge_1 -->\n<g id=\"node4\" class=\"node\">\n<title>knowledge_1</title>\n<ellipse fill=\"white\" stroke=\"black\" cx=\"191.84\" cy=\"-90\" rx=\"57.69\" ry=\"18\"/>\n<text text-anchor=\"middle\" x=\"191.84\" y=\"-86.3\" font-family=\"Times,serif\" font-size=\"14.00\">knowledge_1</text>\n</g>\n<!-- knowledge_1&#45;&gt;grade_1 -->\n<g id=\"edge4\" class=\"edge\">\n<title>knowledge_1&#45;&gt;grade_1</title>\n<path fill=\"none\" stroke=\"black\" d=\"M196.44,-72.05C198.56,-64.26 201.12,-54.82 203.49,-46.08\"/>\n<polygon fill=\"black\" stroke=\"black\" points=\"206.91,-46.84 206.16,-36.28 200.16,-45.01 206.91,-46.84\"/>\n</g>\n<!-- knowledge_2 -->\n<g id=\"node6\" class=\"node\">\n<title>knowledge_2</title>\n<ellipse fill=\"white\" stroke=\"black\" cx=\"325.84\" cy=\"-90\" rx=\"57.69\" ry=\"18\"/>\n<text text-anchor=\"middle\" x=\"325.84\" y=\"-86.3\" font-family=\"Times,serif\" font-size=\"14.00\">knowledge_2</text>\n</g>\n<!-- knowledge_2&#45;&gt;grade_2 -->\n<g id=\"edge6\" class=\"edge\">\n<title>knowledge_2&#45;&gt;grade_2</title>\n<path fill=\"none\" stroke=\"black\" d=\"M330.44,-72.05C332.56,-64.26 335.12,-54.82 337.49,-46.08\"/>\n<polygon fill=\"black\" stroke=\"black\" points=\"340.91,-46.84 340.16,-36.28 334.16,-45.01 340.91,-46.84\"/>\n</g>\n<!-- knowledge_3 -->\n<g id=\"node8\" class=\"node\">\n<title>knowledge_3</title>\n<ellipse fill=\"white\" stroke=\"black\" cx=\"459.84\" cy=\"-90\" rx=\"57.69\" ry=\"18\"/>\n<text text-anchor=\"middle\" x=\"459.84\" y=\"-86.3\" font-family=\"Times,serif\" font-size=\"14.00\">knowledge_3</text>\n</g>\n<!-- knowledge_3&#45;&gt;grade_3 -->\n<g id=\"edge8\" class=\"edge\">\n<title>knowledge_3&#45;&gt;grade_3</title>\n<path fill=\"none\" stroke=\"black\" d=\"M464.44,-72.05C466.56,-64.26 469.12,-54.82 471.49,-46.08\"/>\n<polygon fill=\"black\" stroke=\"black\" points=\"474.91,-46.84 474.16,-36.28 468.16,-45.01 474.91,-46.84\"/>\n</g>\n<!-- knowledge_4 -->\n<g id=\"node10\" class=\"node\">\n<title>knowledge_4</title>\n<ellipse fill=\"white\" stroke=\"black\" cx=\"593.84\" cy=\"-90\" rx=\"57.69\" ry=\"18\"/>\n<text text-anchor=\"middle\" x=\"593.84\" y=\"-86.3\" font-family=\"Times,serif\" font-size=\"14.00\">knowledge_4</text>\n</g>\n<!-- knowledge_4&#45;&gt;grade_4 -->\n<g id=\"edge10\" class=\"edge\">\n<title>knowledge_4&#45;&gt;grade_4</title>\n<path fill=\"none\" stroke=\"black\" d=\"M597.55,-71.7C599.21,-63.98 601.19,-54.71 603.04,-46.11\"/>\n<polygon fill=\"black\" stroke=\"black\" points=\"606.51,-46.62 605.18,-36.1 599.66,-45.15 606.51,-46.62\"/>\n</g>\n<!-- knowledge_5 -->\n<g id=\"node12\" class=\"node\">\n<title>knowledge_5</title>\n<ellipse fill=\"white\" stroke=\"black\" cx=\"805.84\" cy=\"-90\" rx=\"57.69\" ry=\"18\"/>\n<text text-anchor=\"middle\" x=\"805.84\" y=\"-86.3\" font-family=\"Times,serif\" font-size=\"14.00\">knowledge_5</text>\n</g>\n<!-- knowledge_5&#45;&gt;grade_5 -->\n<g id=\"edge12\" class=\"edge\">\n<title>knowledge_5&#45;&gt;grade_5</title>\n<path fill=\"none\" stroke=\"black\" d=\"M786.13,-72.76C774.46,-63.16 759.54,-50.87 746.91,-40.47\"/>\n<polygon fill=\"black\" stroke=\"black\" points=\"748.95,-37.61 739,-33.95 744.5,-43.01 748.95,-37.61\"/>\n</g>\n<!-- knowledge_6 -->\n<g id=\"node14\" class=\"node\">\n<title>knowledge_6</title>\n<ellipse fill=\"white\" stroke=\"black\" cx=\"939.84\" cy=\"-90\" rx=\"57.69\" ry=\"18\"/>\n<text text-anchor=\"middle\" x=\"939.84\" y=\"-86.3\" font-family=\"Times,serif\" font-size=\"14.00\">knowledge_6</text>\n</g>\n<!-- knowledge_6&#45;&gt;grade_6 -->\n<g id=\"edge14\" class=\"edge\">\n<title>knowledge_6&#45;&gt;grade_6</title>\n<path fill=\"none\" stroke=\"black\" d=\"M927.5,-72.05C921.27,-63.5 913.6,-52.97 906.74,-43.56\"/>\n<polygon fill=\"black\" stroke=\"black\" points=\"909.44,-41.33 900.73,-35.31 903.79,-45.45 909.44,-41.33\"/>\n</g>\n<!-- knowledge_7 -->\n<g id=\"node16\" class=\"node\">\n<title>knowledge_7</title>\n<ellipse fill=\"white\" stroke=\"black\" cx=\"1073.84\" cy=\"-90\" rx=\"57.69\" ry=\"18\"/>\n<text text-anchor=\"middle\" x=\"1073.84\" y=\"-86.3\" font-family=\"Times,serif\" font-size=\"14.00\">knowledge_7</text>\n</g>\n<!-- knowledge_7&#45;&gt;grade_7 -->\n<g id=\"edge16\" class=\"edge\">\n<title>knowledge_7&#45;&gt;grade_7</title>\n<path fill=\"none\" stroke=\"black\" d=\"M1065.61,-72.05C1061.65,-63.89 1056.8,-53.91 1052.39,-44.82\"/>\n<polygon fill=\"black\" stroke=\"black\" points=\"1055.52,-43.25 1048,-35.79 1049.22,-46.31 1055.52,-43.25\"/>\n</g>\n<!-- knowledge_8 -->\n<g id=\"node18\" class=\"node\">\n<title>knowledge_8</title>\n<ellipse fill=\"white\" stroke=\"black\" cx=\"1207.84\" cy=\"-90\" rx=\"57.69\" ry=\"18\"/>\n<text text-anchor=\"middle\" x=\"1207.84\" y=\"-86.3\" font-family=\"Times,serif\" font-size=\"14.00\">knowledge_8</text>\n</g>\n<!-- knowledge_8&#45;&gt;grade_8 -->\n<g id=\"edge18\" class=\"edge\">\n<title>knowledge_8&#45;&gt;grade_8</title>\n<path fill=\"none\" stroke=\"black\" d=\"M1201.55,-72.05C1198.58,-64.06 1194.97,-54.33 1191.65,-45.4\"/>\n<polygon fill=\"black\" stroke=\"black\" points=\"1194.84,-43.94 1188.08,-35.79 1188.28,-46.38 1194.84,-43.94\"/>\n</g>\n<!-- knowledge_9 -->\n<g id=\"node20\" class=\"node\">\n<title>knowledge_9</title>\n<ellipse fill=\"white\" stroke=\"black\" cx=\"1341.84\" cy=\"-90\" rx=\"57.69\" ry=\"18\"/>\n<text text-anchor=\"middle\" x=\"1341.84\" y=\"-86.3\" font-family=\"Times,serif\" font-size=\"14.00\">knowledge_9</text>\n</g>\n<!-- knowledge_9&#45;&gt;grade_9 -->\n<g id=\"edge20\" class=\"edge\">\n<title>knowledge_9&#45;&gt;grade_9</title>\n<path fill=\"none\" stroke=\"black\" d=\"M1336.52,-72.05C1334.07,-64.26 1331.1,-54.82 1328.36,-46.08\"/>\n<polygon fill=\"black\" stroke=\"black\" points=\"1331.61,-44.77 1325.27,-36.28 1324.93,-46.86 1331.61,-44.77\"/>\n</g>\n</g>\n</svg>\n",
            "text/plain": [
              "<graphviz.graphs.Digraph at 0x79d681de2150>"
            ]
          },
          "metadata": {},
          "execution_count": 44
        }
      ],
      "source": [
        "pyro.render_model(describe_grade)"
      ]
    },
    {
      "cell_type": "markdown",
      "metadata": {
        "id": "uBnY0NEM12zg"
      },
      "source": [
        "This can work when the number of conditionally independent repetitions is relatively small. Instead, when there are many repetitions, there is a more compact and efficient way to define this behavior: `pyro.plate`\n",
        "\n",
        "Everything that is defined inside the `pyro.plate` context manager, is automatically vectorized and conditionally independent:"
      ]
    },
    {
      "cell_type": "code",
      "execution_count": 45,
      "metadata": {
        "id": "l4H0JaWe12zg"
      },
      "outputs": [],
      "source": [
        "def describe_grade_plate():\n",
        "    difficulty = pyro.sample(\"exam\", dist.Bernoulli(0.5))\n",
        "\n",
        "    with pyro.plate(\"N\", 10):\n",
        "        knowledge = pyro.sample(\"knowledge\", dist.Bernoulli(0.3))\n",
        "        mu = 4 * knowledge - 2 * difficulty + 4\n",
        "        grade = pyro.sample(f\"grade\", dist.Normal(loc=mu, scale=1))\n",
        "\n",
        "    return grade"
      ]
    },
    {
      "cell_type": "code",
      "execution_count": 46,
      "metadata": {
        "id": "a0gMmzMi12zh",
        "outputId": "624e6096-b941-4f1e-acca-184d9c0eee92",
        "colab": {
          "base_uri": "https://localhost:8080/",
          "height": 249
        }
      },
      "outputs": [
        {
          "output_type": "execute_result",
          "data": {
            "image/svg+xml": "<?xml version=\"1.0\" encoding=\"UTF-8\" standalone=\"no\"?>\n<!DOCTYPE svg PUBLIC \"-//W3C//DTD SVG 1.1//EN\"\n \"http://www.w3.org/Graphics/SVG/1.1/DTD/svg11.dtd\">\n<!-- Generated by graphviz version 2.43.0 (0)\n -->\n<!-- Title: %3 Pages: 1 -->\n<svg width=\"202pt\" height=\"171pt\"\n viewBox=\"0.00 0.00 201.55 171.00\" xmlns=\"http://www.w3.org/2000/svg\" xmlns:xlink=\"http://www.w3.org/1999/xlink\">\n<g id=\"graph0\" class=\"graph\" transform=\"scale(1 1) rotate(0) translate(4 167)\">\n<title>%3</title>\n<polygon fill=\"white\" stroke=\"transparent\" points=\"-4,4 -4,-167 197.55,-167 197.55,4 -4,4\"/>\n<g id=\"clust1\" class=\"cluster\">\n<title>cluster_N</title>\n<polygon fill=\"none\" stroke=\"black\" points=\"71.55,-8 71.55,-155 185.55,-155 185.55,-8 71.55,-8\"/>\n<text text-anchor=\"middle\" x=\"172.55\" y=\"-15.8\" font-family=\"Times,serif\" font-size=\"14.00\">N</text>\n</g>\n<!-- exam -->\n<g id=\"node1\" class=\"node\">\n<title>exam</title>\n<ellipse fill=\"white\" stroke=\"black\" cx=\"30.55\" cy=\"-129\" rx=\"30.59\" ry=\"18\"/>\n<text text-anchor=\"middle\" x=\"30.55\" y=\"-125.3\" font-family=\"Times,serif\" font-size=\"14.00\">exam</text>\n</g>\n<!-- grade -->\n<g id=\"node3\" class=\"node\">\n<title>grade</title>\n<ellipse fill=\"white\" stroke=\"black\" cx=\"119.55\" cy=\"-57\" rx=\"30.59\" ry=\"18\"/>\n<text text-anchor=\"middle\" x=\"119.55\" y=\"-53.3\" font-family=\"Times,serif\" font-size=\"14.00\">grade</text>\n</g>\n<!-- exam&#45;&gt;grade -->\n<g id=\"edge1\" class=\"edge\">\n<title>exam&#45;&gt;grade</title>\n<path fill=\"none\" stroke=\"black\" d=\"M48.13,-114.17C61.17,-103.91 79.16,-89.77 93.82,-78.24\"/>\n<polygon fill=\"black\" stroke=\"black\" points=\"96.3,-80.73 102,-71.8 91.98,-75.23 96.3,-80.73\"/>\n</g>\n<!-- knowledge -->\n<g id=\"node2\" class=\"node\">\n<title>knowledge</title>\n<ellipse fill=\"white\" stroke=\"black\" cx=\"128.55\" cy=\"-129\" rx=\"49.29\" ry=\"18\"/>\n<text text-anchor=\"middle\" x=\"128.55\" y=\"-125.3\" font-family=\"Times,serif\" font-size=\"14.00\">knowledge</text>\n</g>\n<!-- knowledge&#45;&gt;grade -->\n<g id=\"edge2\" class=\"edge\">\n<title>knowledge&#45;&gt;grade</title>\n<path fill=\"none\" stroke=\"black\" d=\"M126.32,-110.7C125.33,-102.98 124.14,-93.71 123.03,-85.11\"/>\n<polygon fill=\"black\" stroke=\"black\" points=\"126.49,-84.58 121.75,-75.1 119.55,-85.47 126.49,-84.58\"/>\n</g>\n</g>\n</svg>\n",
            "text/plain": [
              "<graphviz.graphs.Digraph at 0x79d681d89410>"
            ]
          },
          "metadata": {},
          "execution_count": 46
        }
      ],
      "source": [
        "pyro.render_model(describe_grade_plate)"
      ]
    },
    {
      "cell_type": "code",
      "execution_count": 47,
      "metadata": {
        "id": "3Mkh0Cau12zh",
        "outputId": "ecbc5aeb-8bef-42b1-ac65-37ee34416dd2",
        "colab": {
          "base_uri": "https://localhost:8080/"
        }
      },
      "outputs": [
        {
          "output_type": "stream",
          "name": "stdout",
          "text": [
            "grades:  tensor([3.8840, 9.6912, 6.1424, 3.5515, 3.8724, 9.1924, 6.9579, 2.8706, 3.4751,\n",
            "        7.0387])\n"
          ]
        }
      ],
      "source": [
        "print(\"grades: \", describe_grade_plate())"
      ]
    },
    {
      "cell_type": "markdown",
      "metadata": {
        "id": "utpGcZ_O12zh"
      },
      "source": [
        "Notice that the model is the same, but the graphical model uses the plate notation to represent conditionally independent variables.\n",
        "\n",
        "Here we show an example were the grades are observed.\n",
        "The problem here could be to infer the knowledge of each student or the difficulty of the exam:"
      ]
    },
    {
      "cell_type": "code",
      "execution_count": 48,
      "metadata": {
        "id": "TdTioIR912zh"
      },
      "outputs": [],
      "source": [
        "def describe_grade_plate(observed_grades):\n",
        "    difficulty = pyro.sample(\"exam\", dist.Bernoulli(0.5))\n",
        "\n",
        "    with pyro.plate(\"N\", len(observed_grades)):\n",
        "        knowledge = pyro.sample(\"knowledge\", dist.Bernoulli(0.3))\n",
        "        mu = 4 * knowledge - 2 * difficulty + 4\n",
        "        grade = pyro.sample(f\"grade\", dist.Normal(loc=mu, scale=1), obs=observed_grades)\n",
        "\n",
        "    return grade"
      ]
    },
    {
      "cell_type": "code",
      "execution_count": 49,
      "metadata": {
        "id": "Accn-IV412zi",
        "outputId": "9399491e-8eea-4743-ccb2-6bbe1fc33019",
        "colab": {
          "base_uri": "https://localhost:8080/",
          "height": 249
        }
      },
      "outputs": [
        {
          "output_type": "execute_result",
          "data": {
            "image/svg+xml": "<?xml version=\"1.0\" encoding=\"UTF-8\" standalone=\"no\"?>\n<!DOCTYPE svg PUBLIC \"-//W3C//DTD SVG 1.1//EN\"\n \"http://www.w3.org/Graphics/SVG/1.1/DTD/svg11.dtd\">\n<!-- Generated by graphviz version 2.43.0 (0)\n -->\n<!-- Title: %3 Pages: 1 -->\n<svg width=\"202pt\" height=\"171pt\"\n viewBox=\"0.00 0.00 201.55 171.00\" xmlns=\"http://www.w3.org/2000/svg\" xmlns:xlink=\"http://www.w3.org/1999/xlink\">\n<g id=\"graph0\" class=\"graph\" transform=\"scale(1 1) rotate(0) translate(4 167)\">\n<title>%3</title>\n<polygon fill=\"white\" stroke=\"transparent\" points=\"-4,4 -4,-167 197.55,-167 197.55,4 -4,4\"/>\n<g id=\"clust1\" class=\"cluster\">\n<title>cluster_N</title>\n<polygon fill=\"none\" stroke=\"black\" points=\"71.55,-8 71.55,-155 185.55,-155 185.55,-8 71.55,-8\"/>\n<text text-anchor=\"middle\" x=\"172.55\" y=\"-15.8\" font-family=\"Times,serif\" font-size=\"14.00\">N</text>\n</g>\n<!-- exam -->\n<g id=\"node1\" class=\"node\">\n<title>exam</title>\n<ellipse fill=\"white\" stroke=\"black\" cx=\"30.55\" cy=\"-129\" rx=\"30.59\" ry=\"18\"/>\n<text text-anchor=\"middle\" x=\"30.55\" y=\"-125.3\" font-family=\"Times,serif\" font-size=\"14.00\">exam</text>\n</g>\n<!-- grade -->\n<g id=\"node3\" class=\"node\">\n<title>grade</title>\n<ellipse fill=\"gray\" stroke=\"black\" cx=\"119.55\" cy=\"-57\" rx=\"30.59\" ry=\"18\"/>\n<text text-anchor=\"middle\" x=\"119.55\" y=\"-53.3\" font-family=\"Times,serif\" font-size=\"14.00\">grade</text>\n</g>\n<!-- exam&#45;&gt;grade -->\n<g id=\"edge1\" class=\"edge\">\n<title>exam&#45;&gt;grade</title>\n<path fill=\"none\" stroke=\"black\" d=\"M48.13,-114.17C61.17,-103.91 79.16,-89.77 93.82,-78.24\"/>\n<polygon fill=\"black\" stroke=\"black\" points=\"96.3,-80.73 102,-71.8 91.98,-75.23 96.3,-80.73\"/>\n</g>\n<!-- knowledge -->\n<g id=\"node2\" class=\"node\">\n<title>knowledge</title>\n<ellipse fill=\"white\" stroke=\"black\" cx=\"128.55\" cy=\"-129\" rx=\"49.29\" ry=\"18\"/>\n<text text-anchor=\"middle\" x=\"128.55\" y=\"-125.3\" font-family=\"Times,serif\" font-size=\"14.00\">knowledge</text>\n</g>\n<!-- knowledge&#45;&gt;grade -->\n<g id=\"edge2\" class=\"edge\">\n<title>knowledge&#45;&gt;grade</title>\n<path fill=\"none\" stroke=\"black\" d=\"M126.32,-110.7C125.33,-102.98 124.14,-93.71 123.03,-85.11\"/>\n<polygon fill=\"black\" stroke=\"black\" points=\"126.49,-84.58 121.75,-75.1 119.55,-85.47 126.49,-84.58\"/>\n</g>\n</g>\n</svg>\n",
            "text/plain": [
              "<graphviz.graphs.Digraph at 0x79d681f65150>"
            ]
          },
          "metadata": {},
          "execution_count": 49
        }
      ],
      "source": [
        "observed_grades = torch.tensor([5.0, 6.0, 7.0, 8.0, 9.0])\n",
        "\n",
        "pyro.render_model(describe_grade_plate, model_args=(observed_grades, ))"
      ]
    },
    {
      "cell_type": "markdown",
      "source": [
        "We thus try to infer the student's knowledge based on the grade."
      ],
      "metadata": {
        "id": "XsrAJWnA_KiM"
      }
    },
    {
      "cell_type": "markdown",
      "metadata": {
        "id": "I-BCS_X_12zi"
      },
      "source": [
        "There is also another option for dealing with multiple samples: sampling arrays."
      ]
    },
    {
      "cell_type": "code",
      "execution_count": 50,
      "metadata": {
        "id": "3Rsb7KiK12zi",
        "outputId": "9ce280f6-6249-49e0-ca20-855ab6fd6c88",
        "colab": {
          "base_uri": "https://localhost:8080/",
          "height": 211
        }
      },
      "outputs": [
        {
          "output_type": "stream",
          "name": "stdout",
          "text": [
            "grades:  tensor([3.0597, 8.5044, 3.6228, 4.3101, 5.0127, 4.8298, 5.2443, 5.5498, 7.1570,\n",
            "        3.9773])\n"
          ]
        },
        {
          "output_type": "execute_result",
          "data": {
            "image/svg+xml": "<?xml version=\"1.0\" encoding=\"UTF-8\" standalone=\"no\"?>\n<!DOCTYPE svg PUBLIC \"-//W3C//DTD SVG 1.1//EN\"\n \"http://www.w3.org/Graphics/SVG/1.1/DTD/svg11.dtd\">\n<!-- Generated by graphviz version 2.43.0 (0)\n -->\n<!-- Title: %3 Pages: 1 -->\n<svg width=\"222pt\" height=\"116pt\"\n viewBox=\"0.00 0.00 222.14 116.00\" xmlns=\"http://www.w3.org/2000/svg\" xmlns:xlink=\"http://www.w3.org/1999/xlink\">\n<g id=\"graph0\" class=\"graph\" transform=\"scale(1 1) rotate(0) translate(4 112)\">\n<title>%3</title>\n<polygon fill=\"white\" stroke=\"transparent\" points=\"-4,4 -4,-112 218.14,-112 218.14,4 -4,4\"/>\n<!-- exam -->\n<g id=\"node1\" class=\"node\">\n<title>exam</title>\n<ellipse fill=\"white\" stroke=\"black\" cx=\"30.55\" cy=\"-90\" rx=\"30.59\" ry=\"18\"/>\n<text text-anchor=\"middle\" x=\"30.55\" y=\"-86.3\" font-family=\"Times,serif\" font-size=\"14.00\">exam</text>\n</g>\n<!-- grades(10) -->\n<g id=\"node3\" class=\"node\">\n<title>grades(10)</title>\n<ellipse fill=\"white\" stroke=\"black\" cx=\"88.55\" cy=\"-18\" rx=\"48.19\" ry=\"18\"/>\n<text text-anchor=\"middle\" x=\"88.55\" y=\"-14.3\" font-family=\"Times,serif\" font-size=\"14.00\">grades(10)</text>\n</g>\n<!-- exam&#45;&gt;grades(10) -->\n<g id=\"edge1\" class=\"edge\">\n<title>exam&#45;&gt;grades(10)</title>\n<path fill=\"none\" stroke=\"black\" d=\"M43.42,-73.46C50.72,-64.65 60.02,-53.43 68.28,-43.46\"/>\n<polygon fill=\"black\" stroke=\"black\" points=\"71.22,-45.4 74.9,-35.47 65.83,-40.93 71.22,-45.4\"/>\n</g>\n<!-- knowledges(10) -->\n<g id=\"node2\" class=\"node\">\n<title>knowledges(10)</title>\n<ellipse fill=\"white\" stroke=\"black\" cx=\"146.55\" cy=\"-90\" rx=\"67.69\" ry=\"18\"/>\n<text text-anchor=\"middle\" x=\"146.55\" y=\"-86.3\" font-family=\"Times,serif\" font-size=\"14.00\">knowledges(10)</text>\n</g>\n<!-- knowledges(10)&#45;&gt;grades(10) -->\n<g id=\"edge2\" class=\"edge\">\n<title>knowledges(10)&#45;&gt;grades(10)</title>\n<path fill=\"none\" stroke=\"black\" d=\"M132.51,-72.05C125.35,-63.42 116.52,-52.76 108.66,-43.27\"/>\n<polygon fill=\"black\" stroke=\"black\" points=\"111.13,-40.77 102.06,-35.31 105.74,-45.24 111.13,-40.77\"/>\n</g>\n</g>\n</svg>\n",
            "text/plain": [
              "<graphviz.graphs.Digraph at 0x79d681f5b710>"
            ]
          },
          "metadata": {},
          "execution_count": 50
        }
      ],
      "source": [
        "def describe_grade_array(n: int):\n",
        "    difficulty = pyro.sample(\"exam\", dist.Bernoulli(0.5))\n",
        "    knowledge = pyro.sample(f\"knowledges({n})\", dist.Bernoulli(0.3), sample_shape=(n,))\n",
        "    mu = 4 * knowledge - 2 * difficulty + 4\n",
        "    grade = pyro.sample(f\"grades({n})\", dist.Normal(loc=mu, scale=1))\n",
        "\n",
        "    return grade\n",
        "\n",
        "print(\"grades: \", describe_grade_array(10))\n",
        "\n",
        "pyro.render_model(describe_grade_array, model_args=(10, ))"
      ]
    },
    {
      "cell_type": "markdown",
      "metadata": {
        "id": "l-CET_1712zi"
      },
      "source": [
        "But the graphical model is not really transparent! This graph doesn't contain the information that each couple (knowledge, grade) is conditionally independent from others.\n",
        "\n",
        "Anyway, we can use the plate or arrays allows to sample in a more efficiet way:"
      ]
    },
    {
      "cell_type": "code",
      "execution_count": 51,
      "metadata": {
        "id": "Fls6Kvg312zj",
        "outputId": "0abc7c34-b615-44e3-a390-d8a23b01e672",
        "colab": {
          "base_uri": "https://localhost:8080/",
          "height": 430
        }
      },
      "outputs": [
        {
          "output_type": "display_data",
          "data": {
            "text/plain": [
              "<Figure size 640x480 with 1 Axes>"
            ],
            "image/png": "[encoded data removed]"
          },
          "metadata": {}
        }
      ],
      "source": [
        "def describe_grade_array(n: int):\n",
        "    difficulty = pyro.sample(\"exam\", dist.Bernoulli(0.5), sample_shape=(n,))\n",
        "    knowledge = pyro.sample(f\"knowledges({n})\", dist.Bernoulli(0.3), sample_shape=(n,))\n",
        "    mu = 4 * knowledge - 2 * difficulty + 4\n",
        "    grade = pyro.sample(f\"grades({n})\", dist.Normal(loc=mu, scale=1))\n",
        "\n",
        "    return grade\n",
        "\n",
        "grades = describe_grade_array(10000)\n",
        "_ = sns.histplot(grades, kde=True)"
      ]
    },
    {
      "cell_type": "markdown",
      "metadata": {
        "id": "doKoLQ2U12zj"
      },
      "source": [
        "### Parameters"
      ]
    },
    {
      "cell_type": "markdown",
      "metadata": {
        "id": "_Nf_akAk12zj"
      },
      "source": [
        "Pyro supports also the definition of (named) parameters, that sometimes appear when defining a model.\n",
        "For example, they are used when defining a prametric model and we are interested in fitting it to observed data by maximum likelihood estimation (MLE). However, these are not used when following a purely probabilistic (bayesian) approach."
      ]
    },
    {
      "cell_type": "code",
      "execution_count": 53,
      "metadata": {
        "id": "R255x44g12zj",
        "outputId": "e22b8f04-74da-48f2-d6d8-aff606cdd550",
        "colab": {
          "base_uri": "https://localhost:8080/",
          "height": 200
        }
      },
      "outputs": [
        {
          "output_type": "execute_result",
          "data": {
            "image/svg+xml": "<?xml version=\"1.0\" encoding=\"UTF-8\" standalone=\"no\"?>\n<!DOCTYPE svg PUBLIC \"-//W3C//DTD SVG 1.1//EN\"\n \"http://www.w3.org/Graphics/SVG/1.1/DTD/svg11.dtd\">\n<!-- Generated by graphviz version 2.43.0 (0)\n -->\n<!-- Title: %3 Pages: 1 -->\n<svg width=\"94pt\" height=\"134pt\"\n viewBox=\"0.00 0.00 94.00 134.00\" xmlns=\"http://www.w3.org/2000/svg\" xmlns:xlink=\"http://www.w3.org/1999/xlink\">\n<g id=\"graph0\" class=\"graph\" transform=\"scale(1 1) rotate(0) translate(4 130)\">\n<title>%3</title>\n<polygon fill=\"white\" stroke=\"transparent\" points=\"-4,4 -4,-130 90,-130 90,4 -4,4\"/>\n<g id=\"clust1\" class=\"cluster\">\n<title>cluster_N</title>\n<polygon fill=\"none\" stroke=\"black\" points=\"8,-8 8,-83 78,-83 78,-8 8,-8\"/>\n<text text-anchor=\"middle\" x=\"65\" y=\"-15.8\" font-family=\"Times,serif\" font-size=\"14.00\">N</text>\n</g>\n<!-- p -->\n<g id=\"node1\" class=\"node\">\n<title>p</title>\n<polygon fill=\"white\" stroke=\"transparent\" points=\"46.5,-126 39.5,-126 39.5,-111 46.5,-111 46.5,-126\"/>\n<text text-anchor=\"middle\" x=\"43\" y=\"-114.8\" font-family=\"Times,serif\" font-size=\"14.00\">p</text>\n</g>\n<!-- x -->\n<g id=\"node2\" class=\"node\">\n<title>x</title>\n<ellipse fill=\"gray\" stroke=\"black\" cx=\"43\" cy=\"-57\" rx=\"27\" ry=\"18\"/>\n<text text-anchor=\"middle\" x=\"43\" y=\"-53.3\" font-family=\"Times,serif\" font-size=\"14.00\">x</text>\n</g>\n<!-- p&#45;&gt;x -->\n<g id=\"edge1\" class=\"edge\">\n<title>p&#45;&gt;x</title>\n<path fill=\"none\" stroke=\"black\" d=\"M43,-110.67C43,-104.42 43,-94.74 43,-85.37\"/>\n<polygon fill=\"black\" stroke=\"black\" points=\"46.5,-85.13 43,-75.13 39.5,-85.13 46.5,-85.13\"/>\n</g>\n</g>\n</svg>\n",
            "text/plain": [
              "<graphviz.graphs.Digraph at 0x79d681f4a250>"
            ]
          },
          "metadata": {},
          "execution_count": 53
        }
      ],
      "source": [
        "import pyro.distributions.constraints as constraints\n",
        "\n",
        "def parametric_model(obs):\n",
        "    p = pyro.param(name='p',\n",
        "                   init_tensor=torch.tensor(0.5),\n",
        "                   constraint=constraints.unit_interval)\n",
        "    with pyro.plate(\"N\"):\n",
        "        x = pyro.sample(\"x\", dist.Bernoulli(p), obs = obs, constraint = constraints.unit_interval)\n",
        "    return x\n",
        "\n",
        "obs = torch.tensor([0,0,0,0,0,1,1,1,0,1,0,0,0,0,0,0,1]).float()\n",
        "pyro.render_model(parametric_model, render_params=True, model_args=(obs,))"
      ]
    },
    {
      "cell_type": "markdown",
      "metadata": {
        "id": "KwQVzICu12zk"
      },
      "source": [
        "Notice that we can specify the bounds of a parameter: `constraint=constraints.unit_interval`. This information will be exploited during optimization."
      ]
    },
    {
      "cell_type": "markdown",
      "metadata": {
        "id": "KRHHTTzE12zk"
      },
      "source": [
        "### A funny behavior..."
      ]
    },
    {
      "cell_type": "code",
      "execution_count": 54,
      "metadata": {
        "id": "XMtZ34tZ12zk",
        "outputId": "90d2795e-6a5a-41cd-9c58-7c87a47709c4",
        "colab": {
          "base_uri": "https://localhost:8080/",
          "height": 176
        }
      },
      "outputs": [
        {
          "output_type": "execute_result",
          "data": {
            "image/svg+xml": "<?xml version=\"1.0\" encoding=\"UTF-8\" standalone=\"no\"?>\n<!DOCTYPE svg PUBLIC \"-//W3C//DTD SVG 1.1//EN\"\n \"http://www.w3.org/Graphics/SVG/1.1/DTD/svg11.dtd\">\n<!-- Generated by graphviz version 2.43.0 (0)\n -->\n<!-- Title: %3 Pages: 1 -->\n<svg width=\"62pt\" height=\"116pt\"\n viewBox=\"0.00 0.00 62.00 116.00\" xmlns=\"http://www.w3.org/2000/svg\" xmlns:xlink=\"http://www.w3.org/1999/xlink\">\n<g id=\"graph0\" class=\"graph\" transform=\"scale(1 1) rotate(0) translate(4 112)\">\n<title>%3</title>\n<polygon fill=\"white\" stroke=\"transparent\" points=\"-4,4 -4,-112 58,-112 58,4 -4,4\"/>\n<!-- x -->\n<g id=\"node1\" class=\"node\">\n<title>x</title>\n<ellipse fill=\"white\" stroke=\"black\" cx=\"27\" cy=\"-90\" rx=\"27\" ry=\"18\"/>\n<text text-anchor=\"middle\" x=\"27\" y=\"-86.3\" font-family=\"Times,serif\" font-size=\"14.00\">x</text>\n</g>\n<!-- y -->\n<g id=\"node2\" class=\"node\">\n<title>y</title>\n<ellipse fill=\"white\" stroke=\"black\" cx=\"27\" cy=\"-18\" rx=\"27\" ry=\"18\"/>\n<text text-anchor=\"middle\" x=\"27\" y=\"-14.3\" font-family=\"Times,serif\" font-size=\"14.00\">y</text>\n</g>\n<!-- x&#45;&gt;y -->\n<g id=\"edge1\" class=\"edge\">\n<title>x&#45;&gt;y</title>\n<path fill=\"none\" stroke=\"black\" d=\"M27,-71.7C27,-63.98 27,-54.71 27,-46.11\"/>\n<polygon fill=\"black\" stroke=\"black\" points=\"30.5,-46.1 27,-36.1 23.5,-46.1 30.5,-46.1\"/>\n</g>\n</g>\n</svg>\n",
            "text/plain": [
              "<graphviz.graphs.Digraph at 0x79d67dcf1690>"
            ]
          },
          "metadata": {},
          "execution_count": 54
        }
      ],
      "source": [
        "def parametric_model(obs_x=None, obs_y=None):\n",
        "    x = pyro.sample(\"x\", dist.Bernoulli(0.2), obs=obs_x)\n",
        "    y = pyro.sample(\"y\", dist.Bernoulli(0.6*x), obs=obs_y).item()\n",
        "\n",
        "pyro.render_model(parametric_model)"
      ]
    },
    {
      "cell_type": "code",
      "execution_count": 55,
      "metadata": {
        "id": "FIjmV9xz12zk",
        "outputId": "fbade4f1-1ca0-4514-e6aa-a2aa8ff37da4",
        "colab": {
          "base_uri": "https://localhost:8080/",
          "height": 80
        }
      },
      "outputs": [
        {
          "output_type": "execute_result",
          "data": {
            "image/svg+xml": "<?xml version=\"1.0\" encoding=\"UTF-8\" standalone=\"no\"?>\n<!DOCTYPE svg PUBLIC \"-//W3C//DTD SVG 1.1//EN\"\n \"http://www.w3.org/Graphics/SVG/1.1/DTD/svg11.dtd\">\n<!-- Generated by graphviz version 2.43.0 (0)\n -->\n<!-- Title: %3 Pages: 1 -->\n<svg width=\"134pt\" height=\"44pt\"\n viewBox=\"0.00 0.00 134.00 44.00\" xmlns=\"http://www.w3.org/2000/svg\" xmlns:xlink=\"http://www.w3.org/1999/xlink\">\n<g id=\"graph0\" class=\"graph\" transform=\"scale(1 1) rotate(0) translate(4 40)\">\n<title>%3</title>\n<polygon fill=\"white\" stroke=\"transparent\" points=\"-4,4 -4,-40 130,-40 130,4 -4,4\"/>\n<!-- x -->\n<g id=\"node1\" class=\"node\">\n<title>x</title>\n<ellipse fill=\"white\" stroke=\"black\" cx=\"27\" cy=\"-18\" rx=\"27\" ry=\"18\"/>\n<text text-anchor=\"middle\" x=\"27\" y=\"-14.3\" font-family=\"Times,serif\" font-size=\"14.00\">x</text>\n</g>\n<!-- y -->\n<g id=\"node2\" class=\"node\">\n<title>y</title>\n<ellipse fill=\"white\" stroke=\"black\" cx=\"99\" cy=\"-18\" rx=\"27\" ry=\"18\"/>\n<text text-anchor=\"middle\" x=\"99\" y=\"-14.3\" font-family=\"Times,serif\" font-size=\"14.00\">y</text>\n</g>\n</g>\n</svg>\n",
            "text/plain": [
              "<graphviz.graphs.Digraph at 0x79d67dce6710>"
            ]
          },
          "metadata": {},
          "execution_count": 55
        }
      ],
      "source": [
        "def parametric_model(obs_x=None, obs_y=None):\n",
        "    x = pyro.sample(\"x\", dist.Bernoulli(0.2), obs=obs_x).item()\n",
        "    y = pyro.sample(\"y\", dist.Bernoulli(0.6*x), obs=obs_y).item()\n",
        "\n",
        "pyro.render_model(parametric_model)"
      ]
    },
    {
      "cell_type": "markdown",
      "source": [
        "if we pass the 2 random variables as integers the causality disappears."
      ],
      "metadata": {
        "id": "JGZ_jv77AH9D"
      }
    },
    {
      "cell_type": "markdown",
      "metadata": {
        "id": "3ZTIy0Sz12zl"
      },
      "source": [
        "### Summary"
      ]
    },
    {
      "cell_type": "markdown",
      "metadata": {
        "id": "ad0kvX0_12zl"
      },
      "source": [
        "Now we can consider probabilistic models, represented by a standard graphical notation and convert them in Pyro models with the following primitive functions:\n",
        "\n",
        "- latent random variables -> **pyro.sample**\n",
        "- observed random variables -> **pyro.sample** with **obs** keyword argument\n",
        "- plates (sets of conditionally independent variables) -> **pyro.plate**\n",
        "- learnable parameters -> **pyro.param**\n",
        "\n",
        "For example, we can write the model in the image above assuming the following distibutions:\n",
        "\n",
        "- $\\alpha \\sim Normal(2,1)$\n",
        "- $\\beta \\sim Normal(1,1)$\n",
        "- $\\sigma_y \\sim HalfNormal(0.5,1)$\n",
        "- $x_i \\sim Normal(0,1)$ with observed data, N independent samples\n",
        "- $y_i \\sim Normal(\\alpha * \\beta + x, \\sigma_y)$ with observed data, N independent samples"
      ]
    },
    {
      "cell_type": "code",
      "execution_count": 56,
      "metadata": {
        "id": "acdC320w12zl",
        "outputId": "13f4e718-fd63-4b73-d4c6-3f88a9ef0e35",
        "colab": {
          "base_uri": "https://localhost:8080/",
          "height": 291
        }
      },
      "outputs": [
        {
          "output_type": "execute_result",
          "data": {
            "image/svg+xml": "<?xml version=\"1.0\" encoding=\"UTF-8\" standalone=\"no\"?>\n<!DOCTYPE svg PUBLIC \"-//W3C//DTD SVG 1.1//EN\"\n \"http://www.w3.org/Graphics/SVG/1.1/DTD/svg11.dtd\">\n<!-- Generated by graphviz version 2.43.0 (0)\n -->\n<!-- Title: %3 Pages: 1 -->\n<svg width=\"474pt\" height=\"202pt\"\n viewBox=\"0.00 0.00 473.90 202.00\" xmlns=\"http://www.w3.org/2000/svg\" xmlns:xlink=\"http://www.w3.org/1999/xlink\">\n<g id=\"graph0\" class=\"graph\" transform=\"scale(1 1) rotate(0) translate(4 198)\">\n<title>%3</title>\n<polygon fill=\"white\" stroke=\"transparent\" points=\"-4,4 -4,-198 469.9,-198 469.9,4 -4,4\"/>\n<g id=\"clust1\" class=\"cluster\">\n<title>cluster_N</title>\n<polygon fill=\"none\" stroke=\"black\" points=\"69.9,-8 69.9,-178.5 139.9,-178.5 139.9,-8 69.9,-8\"/>\n<text text-anchor=\"middle\" x=\"126.9\" y=\"-15.8\" font-family=\"Times,serif\" font-size=\"14.00\">N</text>\n</g>\n<!-- alpha -->\n<g id=\"node1\" class=\"node\">\n<title>alpha</title>\n<ellipse fill=\"white\" stroke=\"black\" cx=\"29.9\" cy=\"-152.5\" rx=\"29.8\" ry=\"18\"/>\n<text text-anchor=\"middle\" x=\"29.9\" y=\"-148.8\" font-family=\"Times,serif\" font-size=\"14.00\">alpha</text>\n</g>\n<!-- y -->\n<g id=\"node5\" class=\"node\">\n<title>y</title>\n<ellipse fill=\"gray\" stroke=\"black\" cx=\"104.9\" cy=\"-57\" rx=\"27\" ry=\"18\"/>\n<text text-anchor=\"middle\" x=\"104.9\" y=\"-53.3\" font-family=\"Times,serif\" font-size=\"14.00\">y</text>\n</g>\n<!-- alpha&#45;&gt;y -->\n<g id=\"edge1\" class=\"edge\">\n<title>alpha&#45;&gt;y</title>\n<path fill=\"none\" stroke=\"black\" d=\"M42.28,-136.06C54.3,-121.08 72.67,-98.17 86.42,-81.04\"/>\n<polygon fill=\"black\" stroke=\"black\" points=\"89.22,-83.14 92.74,-73.15 83.76,-78.76 89.22,-83.14\"/>\n</g>\n<!-- beta -->\n<g id=\"node2\" class=\"node\">\n<title>beta</title>\n<ellipse fill=\"white\" stroke=\"black\" cx=\"176.9\" cy=\"-152.5\" rx=\"27\" ry=\"18\"/>\n<text text-anchor=\"middle\" x=\"176.9\" y=\"-148.8\" font-family=\"Times,serif\" font-size=\"14.00\">beta</text>\n</g>\n<!-- beta&#45;&gt;y -->\n<g id=\"edge2\" class=\"edge\">\n<title>beta&#45;&gt;y</title>\n<path fill=\"none\" stroke=\"black\" d=\"M165.01,-136.06C153.65,-121.31 136.36,-98.86 123.23,-81.81\"/>\n<polygon fill=\"black\" stroke=\"black\" points=\"125.68,-79.25 116.8,-73.46 120.13,-83.52 125.68,-79.25\"/>\n</g>\n<!-- sigma_y -->\n<g id=\"node3\" class=\"node\">\n<title>sigma_y</title>\n<ellipse fill=\"white\" stroke=\"black\" cx=\"262.9\" cy=\"-152.5\" rx=\"40.89\" ry=\"18\"/>\n<text text-anchor=\"middle\" x=\"262.9\" y=\"-148.8\" font-family=\"Times,serif\" font-size=\"14.00\">sigma_y</text>\n</g>\n<!-- sigma_y&#45;&gt;y -->\n<g id=\"edge3\" class=\"edge\">\n<title>sigma_y&#45;&gt;y</title>\n<path fill=\"none\" stroke=\"black\" d=\"M245.58,-135.86C236.28,-127.88 224.38,-118.34 212.9,-111 188.37,-95.33 158.53,-81.01 136.44,-71.22\"/>\n<polygon fill=\"black\" stroke=\"black\" points=\"137.75,-67.97 127.19,-67.18 134.95,-74.39 137.75,-67.97\"/>\n</g>\n<!-- x -->\n<g id=\"node4\" class=\"node\">\n<title>x</title>\n<ellipse fill=\"gray\" stroke=\"black\" cx=\"104.9\" cy=\"-152.5\" rx=\"27\" ry=\"18\"/>\n<text text-anchor=\"middle\" x=\"104.9\" y=\"-148.8\" font-family=\"Times,serif\" font-size=\"14.00\">x</text>\n</g>\n<!-- x&#45;&gt;y -->\n<g id=\"edge4\" class=\"edge\">\n<title>x&#45;&gt;y</title>\n<path fill=\"none\" stroke=\"black\" d=\"M104.9,-134.35C104.9,-120.64 104.9,-101.17 104.9,-85.32\"/>\n<polygon fill=\"black\" stroke=\"black\" points=\"108.4,-85.04 104.9,-75.04 101.4,-85.04 108.4,-85.04\"/>\n</g>\n<!-- distribution_description_node -->\n<g id=\"node6\" class=\"node\">\n<title>distribution_description_node</title>\n<text text-anchor=\"start\" x=\"329.9\" y=\"-178.8\" font-family=\"Times,serif\" font-size=\"14.00\">alpha ~ Normal</text>\n<text text-anchor=\"start\" x=\"329.9\" y=\"-163.8\" font-family=\"Times,serif\" font-size=\"14.00\">beta ~ Normal</text>\n<text text-anchor=\"start\" x=\"329.9\" y=\"-148.8\" font-family=\"Times,serif\" font-size=\"14.00\">sigma_y ~ HalfNormal</text>\n<text text-anchor=\"start\" x=\"329.9\" y=\"-133.8\" font-family=\"Times,serif\" font-size=\"14.00\">x ~ Normal</text>\n<text text-anchor=\"start\" x=\"329.9\" y=\"-118.8\" font-family=\"Times,serif\" font-size=\"14.00\">y ~ Normal</text>\n</g>\n</g>\n</svg>\n",
            "text/plain": [
              "<graphviz.graphs.Digraph at 0x79d681df0450>"
            ]
          },
          "metadata": {},
          "execution_count": 56
        }
      ],
      "source": [
        "def parametric_model(x_data, y_data):\n",
        "    alpha = pyro.sample('alpha', dist.Normal(2,1))\n",
        "    beta = pyro.sample('beta', dist.Normal(1,1))\n",
        "    sigma_y = pyro.sample('sigma_y', dist.HalfNormal(0.5,1))\n",
        "    with pyro.plate(\"N\", len(x_data)):\n",
        "        x = pyro.sample(\"x\", dist.Normal(0,1), obs=x_data)\n",
        "        pyro.sample(\"y\", dist.Normal(alpha*beta + x, sigma_y), obs=y_data)\n",
        "\n",
        "# OBSERVED DATA\n",
        "data_x = torch.tensor((0, 0.2, 0.1, 0.3, 0, 0.1, 0.2, -0.1, -0.3, 0))\n",
        "data_y = torch.tensor((2,3,2.5,1.5,0,1.5,1,2.3,3,2.8))\n",
        "\n",
        "# VISUALIZE THE MODEL\n",
        "pyro.render_model(parametric_model, model_args=(data_x,data_y,), render_params=True ,render_distributions=True)"
      ]
    },
    {
      "cell_type": "code",
      "execution_count": null,
      "metadata": {
        "id": "kSX9TzlT12zl"
      },
      "outputs": [],
      "source": []
    }
  ],
  "metadata": {
    "kernelspec": {
      "display_name": "stdenv",
      "language": "python",
      "name": "python3"
    },
    "language_info": {
      "codemirror_mode": {
        "name": "ipython",
        "version": 3
      },
      "file_extension": ".py",
      "mimetype": "text/x-python",
      "name": "python",
      "nbconvert_exporter": "python",
      "pygments_lexer": "ipython3",
      "version": "3.11.11"
    },
    "colab": {
      "provenance": []
    }
  },
  "nbformat": 4,
  "nbformat_minor": 0
}